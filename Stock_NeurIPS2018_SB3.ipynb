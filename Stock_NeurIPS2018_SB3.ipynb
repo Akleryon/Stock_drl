{
  "cells": [
    {
      "cell_type": "markdown",
      "metadata": {
        "id": "yfv52r2G33jY"
      },
      "source": [
        "<a href=\"https://colab.research.google.com/github/AI4Finance-Foundation/FinRL-Tutorials/blob/master/1-Introduction/Stock_NeurIPS2018_SB3.ipynb\" target=\"_parent\"><img src=\"https://colab.research.google.com/assets/colab-badge.svg\" alt=\"Open In Colab\"/></a>"
      ]
    },
    {
      "cell_type": "markdown",
      "metadata": {
        "id": "gXaoZs2lh1hi"
      },
      "source": [
        "# Deep Reinforcement Learning for Stock Trading from Scratch: Multiple Stock Trading\n",
        "\n",
        "* **Pytorch Version** \n",
        "\n"
      ]
    },
    {
      "cell_type": "markdown",
      "metadata": {
        "id": "lGunVt8oLCVS"
      },
      "source": [
        "# Content"
      ]
    },
    {
      "cell_type": "markdown",
      "metadata": {
        "id": "HOzAKQ-SLGX6"
      },
      "source": [
        "* [1. Task Description](#0)\n",
        "* [2. Install Python packages](#1)\n",
        "    * [2.1. Install Packages](#1.1)    \n",
        "    * [2.2. A List of Python Packages](#1.2)\n",
        "    * [2.3. Import Packages](#1.3)\n",
        "    * [2.4. Create Folders](#1.4)\n",
        "* [3. Download and Preprocess Data](#2)\n",
        "* [4. Preprocess Data](#3)        \n",
        "    * [4.1. Technical Indicators](#3.1)\n",
        "    * [4.2. Perform Feature Engineering](#3.2)\n",
        "* [5. Build Market Environment in OpenAI Gym-style](#4)  \n",
        "    * [5.1. Data Split](#4.1)  \n",
        "    * [5.3. Environment for Training](#4.2)    \n",
        "* [6. Train DRL Agents](#5)\n",
        "* [7. Backtesting Performance](#6)  \n",
        "    * [7.1. BackTestStats](#6.1)\n",
        "    * [7.2. BackTestPlot](#6.2)   \n",
        "  "
      ]
    },
    {
      "cell_type": "markdown",
      "metadata": {
        "id": "sApkDlD9LIZv"
      },
      "source": [
        "<a id='0'></a>\n",
        "# Part 1. Task Discription"
      ]
    },
    {
      "cell_type": "markdown",
      "metadata": {
        "id": "HjLD2TZSLKZ-"
      },
      "source": [
        "We train a DRL agent for stock trading. This task is modeled as a Markov Decision Process (MDP), and the objective function is maximizing (expected) cumulative return.\n",
        "\n",
        "We specify the state-action-reward as follows:\n",
        "\n",
        "* **State s**: The state space represents an agent's perception of the market environment. Just like a human trader analyzing various information, here our agent passively observes many features and learns by interacting with the market environment (usually by replaying historical data).\n",
        "\n",
        "* **Action a**: The action space includes allowed actions that an agent can take at each state. For example, a ∈ {−1, 0, 1}, where −1, 0, 1 represent\n",
        "selling, holding, and buying. When an action operates multiple shares, a ∈{−k, ..., −1, 0, 1, ..., k}, e.g.. \"Buy\n",
        "10 shares of AAPL\" or \"Sell 10 shares of AAPL\" are 10 or −10, respectively\n",
        "\n",
        "* **Reward function r(s, a, s′)**: Reward is an incentive for an agent to learn a better policy. For example, it can be the change of the portfolio value when taking a at state s and arriving at new state s',  i.e., r(s, a, s′) = v′ − v, where v′ and v represent the portfolio values at state s′ and s, respectively\n",
        "\n",
        "\n",
        "**Market environment**: 30 consituent stocks of Dow Jones Industrial Average (DJIA) index. Accessed at the starting date of the testing period.\n",
        "\n",
        "\n",
        "The data for this case study is obtained from Yahoo Finance API. The data contains Open-High-Low-Close price and volume.\n"
      ]
    },
    {
      "cell_type": "markdown",
      "metadata": {
        "id": "Ffsre789LY08"
      },
      "source": [
        "<a id='1'></a>\n",
        "# Part 2. Install Python Packages"
      ]
    },
    {
      "cell_type": "markdown",
      "metadata": {
        "id": "Uy5_PTmOh1hj"
      },
      "source": [
        "<a id='1.1'></a>\n",
        "## 2.1. Install packages\n"
      ]
    },
    {
      "cell_type": "markdown",
      "metadata": {
        "id": "osBHhVysOEzi"
      },
      "source": [
        "\n",
        "<a id='1.2'></a>\n",
        "## 2.2. A list of Python packages \n",
        "* Yahoo Finance API\n",
        "* pandas\n",
        "* numpy\n",
        "* matplotlib\n",
        "* stockstats\n",
        "* OpenAI gym\n",
        "* stable-baselines\n",
        "* tensorflow\n",
        "* pyfolio"
      ]
    },
    {
      "cell_type": "markdown",
      "metadata": {
        "id": "nGv01K8Sh1hn"
      },
      "source": [
        "<a id='1.3'></a>\n",
        "## 2.3. Import Packages"
      ]
    },
    {
      "cell_type": "code",
      "execution_count": 29,
      "metadata": {},
      "outputs": [],
      "source": [
        "import datetime"
      ]
    },
    {
      "cell_type": "code",
      "execution_count": 30,
      "metadata": {
        "colab": {
          "base_uri": "https://localhost:8080/"
        },
        "id": "lPqeTTwoh1hn",
        "outputId": "23c28589-9d6f-4b8b-bf9e-9822e4ccea90"
      },
      "outputs": [],
      "source": [
        "import sys\n",
        "sys.path.append(\"../STOCK_DRL\")\n",
        "\n",
        "import warnings\n",
        "warnings.filterwarnings(\"ignore\")\n",
        "\n",
        "\n",
        "import itertools\n",
        "import pandas as pd\n",
        "import numpy as np\n",
        "import matplotlib.pyplot as plt\n",
        "# matplotlib.use('Agg')\n",
        "import datetime\n",
        "\n",
        "from Processed import get_processed_data\n",
        "\n",
        "from module.yahoodownloader import YahooDownloader\n",
        "from module.preprocessor import FeatureEngineer, data_split\n",
        "from module.efficient_frontier import EfficientFrontier\n",
        "from module import helper\n",
        "from module.config_tickers import DOW_30_TICKER\n",
        "from module.env_stocktrading import StockTradingEnv\n",
        "from module.models import DRLAgent\n",
        "from module.logger import configure\n",
        "from module.config import (\n",
        "    DATA_SAVE_DIR,\n",
        "    TRAINED_MODEL_DIR,\n",
        "    TENSORBOARD_LOG_DIR,\n",
        "    RESULTS_DIR,\n",
        "    INDICATORS,\n",
        "    TRAIN_START_DATE,\n",
        "    TRAIN_END_DATE,\n",
        "    TEST_START_DATE,\n",
        "    TEST_END_DATE,\n",
        "    TRADE_START_DATE,\n",
        "    TRADE_END_DATE,\n",
        "    YESTERDAY,\n",
        "    TODAY\n",
        ")\n"
      ]
    },
    {
      "cell_type": "markdown",
      "metadata": {
        "id": "T2owTj985RW4"
      },
      "source": [
        "<a id='1.4'></a>\n",
        "## 2.4. Create Folders"
      ]
    },
    {
      "cell_type": "code",
      "execution_count": 31,
      "metadata": {
        "id": "RtUc_ofKmpdy"
      },
      "outputs": [],
      "source": [
        "from finrl.main import check_and_make_directories\n",
        "check_and_make_directories([DATA_SAVE_DIR, TRAINED_MODEL_DIR, TENSORBOARD_LOG_DIR, RESULTS_DIR])\n",
        "\n"
      ]
    },
    {
      "cell_type": "markdown",
      "metadata": {
        "id": "A289rQWMh1hq"
      },
      "source": [
        "<a id='2'></a>\n",
        "# Part 3. Download Data\n",
        "Yahoo Finance provides stock data, financial news, financial reports, etc. Yahoo Finance is free.\n",
        "* FinRL uses a class **YahooDownloader** in FinRL-Meta to fetch data via Yahoo Finance API\n",
        "* Call Limit: Using the Public API (without authentication), you are limited to 2,000 requests per hour per IP (or up to a total of 48,000 requests a day)."
      ]
    },
    {
      "cell_type": "markdown",
      "metadata": {
        "id": "NPeQ7iS-LoMm"
      },
      "source": [
        "\n",
        "\n",
        "-----\n",
        "class YahooDownloader:\n",
        "    Retrieving daily stock data from\n",
        "    Yahoo Finance API\n",
        "\n",
        "    Attributes\n",
        "    ----------\n",
        "        start_date : str\n",
        "            start date of the data (modified from config.py)\n",
        "        end_date : str\n",
        "            end date of the data (modified from config.py)\n",
        "        ticker_list : list\n",
        "            a list of stock tickers (modified from config.py)\n",
        "\n",
        "    Methods\n",
        "    -------\n",
        "    fetch_data()\n"
      ]
    },
    {
      "cell_type": "code",
      "execution_count": 32,
      "metadata": {
        "colab": {
          "base_uri": "https://localhost:8080/",
          "height": 35
        },
        "id": "h3XJnvrbLp-C",
        "outputId": "43a6df4b-1a4f-4835-a7d3-4f4da695f474"
      },
      "outputs": [
        {
          "data": {
            "text/plain": [
              "'2020-05-18'"
            ]
          },
          "execution_count": 32,
          "metadata": {},
          "output_type": "execute_result"
        }
      ],
      "source": [
        "# from config.py, TRAIN_START_DATE is a string\n",
        "TRAIN_START_DATE\n",
        "# from config.py, TRAIN_END_DATE is a string\n",
        "TRAIN_END_DATE"
      ]
    },
    {
      "cell_type": "code",
      "execution_count": 33,
      "metadata": {
        "colab": {
          "base_uri": "https://localhost:8080/"
        },
        "id": "yCKm4om-s9kE",
        "outputId": "9012549f-ac6c-48d3-9254-b162a53930a4"
      },
      "outputs": [
        {
          "name": "stdout",
          "output_type": "stream",
          "text": [
            "[*********************100%***********************]  1 of 1 completed\n",
            "[*********************100%***********************]  1 of 1 completed\n",
            "[*********************100%***********************]  1 of 1 completed\n",
            "[*********************100%***********************]  1 of 1 completed\n",
            "[*********************100%***********************]  1 of 1 completed\n",
            "[*********************100%***********************]  1 of 1 completed\n",
            "[*********************100%***********************]  1 of 1 completed\n",
            "[*********************100%***********************]  1 of 1 completed\n",
            "[*********************100%***********************]  1 of 1 completed\n",
            "[*********************100%***********************]  1 of 1 completed\n",
            "[*********************100%***********************]  1 of 1 completed\n",
            "[*********************100%***********************]  1 of 1 completed\n",
            "[*********************100%***********************]  1 of 1 completed\n",
            "[*********************100%***********************]  1 of 1 completed\n",
            "[*********************100%***********************]  1 of 1 completed\n",
            "[*********************100%***********************]  1 of 1 completed\n",
            "[*********************100%***********************]  1 of 1 completed\n",
            "[*********************100%***********************]  1 of 1 completed\n",
            "[*********************100%***********************]  1 of 1 completed\n",
            "[*********************100%***********************]  1 of 1 completed\n",
            "[*********************100%***********************]  1 of 1 completed\n",
            "[*********************100%***********************]  1 of 1 completed\n",
            "[*********************100%***********************]  1 of 1 completed\n",
            "[*********************100%***********************]  1 of 1 completed\n",
            "[*********************100%***********************]  1 of 1 completed\n",
            "[*********************100%***********************]  1 of 1 completed\n",
            "[*********************100%***********************]  1 of 1 completed\n",
            "[*********************100%***********************]  1 of 1 completed\n",
            "[*********************100%***********************]  1 of 1 completed\n",
            "[*********************100%***********************]  1 of 1 completed\n",
            "Shape of DataFrame:  (104771, 8)\n"
          ]
        }
      ],
      "source": [
        "df = YahooDownloader(start_date = TRAIN_START_DATE,\n",
        "                     end_date = TRADE_END_DATE,\n",
        "                     ticker_list = DOW_30_TICKER).fetch_data()"
      ]
    },
    {
      "cell_type": "code",
      "execution_count": 34,
      "metadata": {
        "colab": {
          "base_uri": "https://localhost:8080/"
        },
        "id": "JzqRRTOX6aFu",
        "outputId": "c39fd69d-4815-416d-8bef-54dc7c6abcbe"
      },
      "outputs": [
        {
          "name": "stdout",
          "output_type": "stream",
          "text": [
            "['AXP', 'AMGN', 'AAPL', 'BA', 'CAT', 'CSCO', 'CVX', 'GS', 'HD', 'HON', 'IBM', 'INTC', 'JNJ', 'KO', 'JPM', 'MCD', 'MMM', 'MRK', 'MSFT', 'NKE', 'PG', 'TRV', 'UNH', 'CRM', 'VZ', 'V', 'WBA', 'WMT', 'DIS', 'DOW']\n"
          ]
        }
      ],
      "source": [
        "print(DOW_30_TICKER)"
      ]
    },
    {
      "cell_type": "code",
      "execution_count": 35,
      "metadata": {
        "colab": {
          "base_uri": "https://localhost:8080/"
        },
        "id": "CV3HrZHLh1hy",
        "outputId": "5f69723b-2a5d-4d64-87c5-3a6d3abecd3c"
      },
      "outputs": [
        {
          "data": {
            "text/plain": [
              "(104771, 8)"
            ]
          },
          "execution_count": 35,
          "metadata": {},
          "output_type": "execute_result"
        }
      ],
      "source": [
        "df.shape"
      ]
    },
    {
      "cell_type": "code",
      "execution_count": 36,
      "metadata": {
        "colab": {
          "base_uri": "https://localhost:8080/",
          "height": 206
        },
        "id": "4hYkeaPiICHS",
        "outputId": "7adbffad-04bf-4b83-d47e-6b25cb56efa6"
      },
      "outputs": [
        {
          "data": {
            "text/html": [
              "<div>\n",
              "<style scoped>\n",
              "    .dataframe tbody tr th:only-of-type {\n",
              "        vertical-align: middle;\n",
              "    }\n",
              "\n",
              "    .dataframe tbody tr th {\n",
              "        vertical-align: top;\n",
              "    }\n",
              "\n",
              "    .dataframe thead th {\n",
              "        text-align: right;\n",
              "    }\n",
              "</style>\n",
              "<table border=\"1\" class=\"dataframe\">\n",
              "  <thead>\n",
              "    <tr style=\"text-align: right;\">\n",
              "      <th></th>\n",
              "      <th>date</th>\n",
              "      <th>open</th>\n",
              "      <th>high</th>\n",
              "      <th>low</th>\n",
              "      <th>close</th>\n",
              "      <th>volume</th>\n",
              "      <th>tic</th>\n",
              "      <th>day</th>\n",
              "    </tr>\n",
              "  </thead>\n",
              "  <tbody>\n",
              "    <tr>\n",
              "      <th>0</th>\n",
              "      <td>2009-01-02</td>\n",
              "      <td>3.067143</td>\n",
              "      <td>3.251429</td>\n",
              "      <td>3.041429</td>\n",
              "      <td>2.758535</td>\n",
              "      <td>746015200</td>\n",
              "      <td>AAPL</td>\n",
              "      <td>4</td>\n",
              "    </tr>\n",
              "    <tr>\n",
              "      <th>1</th>\n",
              "      <td>2009-01-02</td>\n",
              "      <td>58.590000</td>\n",
              "      <td>59.080002</td>\n",
              "      <td>57.750000</td>\n",
              "      <td>43.832638</td>\n",
              "      <td>6547900</td>\n",
              "      <td>AMGN</td>\n",
              "      <td>4</td>\n",
              "    </tr>\n",
              "    <tr>\n",
              "      <th>2</th>\n",
              "      <td>2009-01-02</td>\n",
              "      <td>18.570000</td>\n",
              "      <td>19.520000</td>\n",
              "      <td>18.400000</td>\n",
              "      <td>15.365300</td>\n",
              "      <td>10955700</td>\n",
              "      <td>AXP</td>\n",
              "      <td>4</td>\n",
              "    </tr>\n",
              "    <tr>\n",
              "      <th>3</th>\n",
              "      <td>2009-01-02</td>\n",
              "      <td>42.799999</td>\n",
              "      <td>45.560001</td>\n",
              "      <td>42.779999</td>\n",
              "      <td>33.941086</td>\n",
              "      <td>7010200</td>\n",
              "      <td>BA</td>\n",
              "      <td>4</td>\n",
              "    </tr>\n",
              "    <tr>\n",
              "      <th>4</th>\n",
              "      <td>2009-01-02</td>\n",
              "      <td>44.910000</td>\n",
              "      <td>46.980000</td>\n",
              "      <td>44.709999</td>\n",
              "      <td>31.579325</td>\n",
              "      <td>7117200</td>\n",
              "      <td>CAT</td>\n",
              "      <td>4</td>\n",
              "    </tr>\n",
              "  </tbody>\n",
              "</table>\n",
              "</div>"
            ],
            "text/plain": [
              "         date       open       high        low      close     volume   tic  \\\n",
              "0  2009-01-02   3.067143   3.251429   3.041429   2.758535  746015200  AAPL   \n",
              "1  2009-01-02  58.590000  59.080002  57.750000  43.832638    6547900  AMGN   \n",
              "2  2009-01-02  18.570000  19.520000  18.400000  15.365300   10955700   AXP   \n",
              "3  2009-01-02  42.799999  45.560001  42.779999  33.941086    7010200    BA   \n",
              "4  2009-01-02  44.910000  46.980000  44.709999  31.579325    7117200   CAT   \n",
              "\n",
              "   day  \n",
              "0    4  \n",
              "1    4  \n",
              "2    4  \n",
              "3    4  \n",
              "4    4  "
            ]
          },
          "execution_count": 36,
          "metadata": {},
          "output_type": "execute_result"
        }
      ],
      "source": [
        "df.sort_values(['date','tic'],ignore_index=True).head()"
      ]
    },
    {
      "cell_type": "markdown",
      "metadata": {
        "id": "uqC6c40Zh1iH"
      },
      "source": [
        "# Part 4: Preprocess Data\n",
        "We need to check for missing data and do feature engineering to convert the data point into a state.\n",
        "* **Adding technical indicators**. In practical trading, various information needs to be taken into account, such as historical prices, current holding shares, technical indicators, etc. Here, we demonstrate two trend-following technical indicators: MACD and RSI.\n",
        "* **Adding turbulence index**. Risk-aversion reflects whether an investor prefers to protect the capital. It also influences one's trading strategy when facing different market volatility level. To control the risk in a worst-case scenario, such as financial crisis of 2007–2008, FinRL employs the turbulence index that measures extreme fluctuation of asset price."
      ]
    },
    {
      "cell_type": "code",
      "execution_count": 37,
      "metadata": {
        "colab": {
          "base_uri": "https://localhost:8080/"
        },
        "id": "PmKP-1ii3RLS",
        "outputId": "da44c66b-ec26-4950-c85c-2bd1aa80d8e6"
      },
      "outputs": [
        {
          "name": "stdout",
          "output_type": "stream",
          "text": [
            "Successfully added technical indicators\n",
            "[*********************100%***********************]  1 of 1 completed\n",
            "Shape of DataFrame:  (3578, 8)\n",
            "Successfully added vix\n",
            "Successfully added turbulence index\n"
          ]
        }
      ],
      "source": [
        "fe = FeatureEngineer(\n",
        "                    use_technical_indicator=True,\n",
        "                    tech_indicator_list = INDICATORS,\n",
        "                    use_vix=True,\n",
        "                    use_turbulence=True,\n",
        "                    user_defined_feature = False)\n",
        "\n",
        "processed = fe.preprocess_data(df)"
      ]
    },
    {
      "cell_type": "code",
      "execution_count": 38,
      "metadata": {
        "id": "Kixon2tR3RLT"
      },
      "outputs": [],
      "source": [
        "list_ticker = processed[\"tic\"].unique().tolist()\n",
        "list_date = list(pd.date_range(processed['date'].min(),processed['date'].max()).astype(str))\n",
        "combination = list(itertools.product(list_date,list_ticker))\n",
        "\n",
        "processed_full = pd.DataFrame(combination,columns=[\"date\",\"tic\"]).merge(processed,on=[\"date\",\"tic\"],how=\"left\")\n",
        "processed_full = processed_full[processed_full['date'].isin(processed['date'])]\n",
        "processed_full = processed_full.sort_values(['date','tic'])\n",
        "\n",
        "processed_full = processed_full.fillna(0)"
      ]
    },
    {
      "cell_type": "code",
      "execution_count": 39,
      "metadata": {
        "colab": {
          "base_uri": "https://localhost:8080/",
          "height": 601
        },
        "id": "grvhGJJII3Xn",
        "outputId": "935e319f-b7d8-4ed5-971d-05ef8c92e78b"
      },
      "outputs": [
        {
          "data": {
            "text/html": [
              "<div>\n",
              "<style scoped>\n",
              "    .dataframe tbody tr th:only-of-type {\n",
              "        vertical-align: middle;\n",
              "    }\n",
              "\n",
              "    .dataframe tbody tr th {\n",
              "        vertical-align: top;\n",
              "    }\n",
              "\n",
              "    .dataframe thead th {\n",
              "        text-align: right;\n",
              "    }\n",
              "</style>\n",
              "<table border=\"1\" class=\"dataframe\">\n",
              "  <thead>\n",
              "    <tr style=\"text-align: right;\">\n",
              "      <th></th>\n",
              "      <th>date</th>\n",
              "      <th>tic</th>\n",
              "      <th>open</th>\n",
              "      <th>high</th>\n",
              "      <th>low</th>\n",
              "      <th>close</th>\n",
              "      <th>volume</th>\n",
              "      <th>day</th>\n",
              "      <th>macd</th>\n",
              "      <th>boll_ub</th>\n",
              "      <th>boll_lb</th>\n",
              "      <th>rsi_30</th>\n",
              "      <th>cci_30</th>\n",
              "      <th>dx_30</th>\n",
              "      <th>close_30_sma</th>\n",
              "      <th>close_60_sma</th>\n",
              "      <th>vix</th>\n",
              "      <th>turbulence</th>\n",
              "    </tr>\n",
              "  </thead>\n",
              "  <tbody>\n",
              "    <tr>\n",
              "      <th>0</th>\n",
              "      <td>2009-01-02</td>\n",
              "      <td>AAPL</td>\n",
              "      <td>3.067143</td>\n",
              "      <td>3.251429</td>\n",
              "      <td>3.041429</td>\n",
              "      <td>2.758535</td>\n",
              "      <td>746015200.0</td>\n",
              "      <td>4.0</td>\n",
              "      <td>0.0</td>\n",
              "      <td>2.98139</td>\n",
              "      <td>2.652101</td>\n",
              "      <td>100.0</td>\n",
              "      <td>66.666667</td>\n",
              "      <td>100.0</td>\n",
              "      <td>2.758535</td>\n",
              "      <td>2.758535</td>\n",
              "      <td>39.189999</td>\n",
              "      <td>0.0</td>\n",
              "    </tr>\n",
              "    <tr>\n",
              "      <th>1</th>\n",
              "      <td>2009-01-02</td>\n",
              "      <td>AMGN</td>\n",
              "      <td>58.590000</td>\n",
              "      <td>59.080002</td>\n",
              "      <td>57.750000</td>\n",
              "      <td>43.832638</td>\n",
              "      <td>6547900.0</td>\n",
              "      <td>4.0</td>\n",
              "      <td>0.0</td>\n",
              "      <td>2.98139</td>\n",
              "      <td>2.652101</td>\n",
              "      <td>100.0</td>\n",
              "      <td>66.666667</td>\n",
              "      <td>100.0</td>\n",
              "      <td>43.832638</td>\n",
              "      <td>43.832638</td>\n",
              "      <td>39.189999</td>\n",
              "      <td>0.0</td>\n",
              "    </tr>\n",
              "    <tr>\n",
              "      <th>2</th>\n",
              "      <td>2009-01-02</td>\n",
              "      <td>AXP</td>\n",
              "      <td>18.570000</td>\n",
              "      <td>19.520000</td>\n",
              "      <td>18.400000</td>\n",
              "      <td>15.365300</td>\n",
              "      <td>10955700.0</td>\n",
              "      <td>4.0</td>\n",
              "      <td>0.0</td>\n",
              "      <td>2.98139</td>\n",
              "      <td>2.652101</td>\n",
              "      <td>100.0</td>\n",
              "      <td>66.666667</td>\n",
              "      <td>100.0</td>\n",
              "      <td>15.365300</td>\n",
              "      <td>15.365300</td>\n",
              "      <td>39.189999</td>\n",
              "      <td>0.0</td>\n",
              "    </tr>\n",
              "    <tr>\n",
              "      <th>3</th>\n",
              "      <td>2009-01-02</td>\n",
              "      <td>BA</td>\n",
              "      <td>42.799999</td>\n",
              "      <td>45.560001</td>\n",
              "      <td>42.779999</td>\n",
              "      <td>33.941086</td>\n",
              "      <td>7010200.0</td>\n",
              "      <td>4.0</td>\n",
              "      <td>0.0</td>\n",
              "      <td>2.98139</td>\n",
              "      <td>2.652101</td>\n",
              "      <td>100.0</td>\n",
              "      <td>66.666667</td>\n",
              "      <td>100.0</td>\n",
              "      <td>33.941086</td>\n",
              "      <td>33.941086</td>\n",
              "      <td>39.189999</td>\n",
              "      <td>0.0</td>\n",
              "    </tr>\n",
              "    <tr>\n",
              "      <th>4</th>\n",
              "      <td>2009-01-02</td>\n",
              "      <td>CAT</td>\n",
              "      <td>44.910000</td>\n",
              "      <td>46.980000</td>\n",
              "      <td>44.709999</td>\n",
              "      <td>31.579325</td>\n",
              "      <td>7117200.0</td>\n",
              "      <td>4.0</td>\n",
              "      <td>0.0</td>\n",
              "      <td>2.98139</td>\n",
              "      <td>2.652101</td>\n",
              "      <td>100.0</td>\n",
              "      <td>66.666667</td>\n",
              "      <td>100.0</td>\n",
              "      <td>31.579325</td>\n",
              "      <td>31.579325</td>\n",
              "      <td>39.189999</td>\n",
              "      <td>0.0</td>\n",
              "    </tr>\n",
              "    <tr>\n",
              "      <th>5</th>\n",
              "      <td>2009-01-02</td>\n",
              "      <td>CRM</td>\n",
              "      <td>8.025000</td>\n",
              "      <td>8.550000</td>\n",
              "      <td>7.912500</td>\n",
              "      <td>8.505000</td>\n",
              "      <td>4069200.0</td>\n",
              "      <td>4.0</td>\n",
              "      <td>0.0</td>\n",
              "      <td>2.98139</td>\n",
              "      <td>2.652101</td>\n",
              "      <td>100.0</td>\n",
              "      <td>66.666667</td>\n",
              "      <td>100.0</td>\n",
              "      <td>8.505000</td>\n",
              "      <td>8.505000</td>\n",
              "      <td>39.189999</td>\n",
              "      <td>0.0</td>\n",
              "    </tr>\n",
              "    <tr>\n",
              "      <th>6</th>\n",
              "      <td>2009-01-02</td>\n",
              "      <td>CSCO</td>\n",
              "      <td>16.410000</td>\n",
              "      <td>17.000000</td>\n",
              "      <td>16.250000</td>\n",
              "      <td>11.948337</td>\n",
              "      <td>40980600.0</td>\n",
              "      <td>4.0</td>\n",
              "      <td>0.0</td>\n",
              "      <td>2.98139</td>\n",
              "      <td>2.652101</td>\n",
              "      <td>100.0</td>\n",
              "      <td>66.666667</td>\n",
              "      <td>100.0</td>\n",
              "      <td>11.948337</td>\n",
              "      <td>11.948337</td>\n",
              "      <td>39.189999</td>\n",
              "      <td>0.0</td>\n",
              "    </tr>\n",
              "    <tr>\n",
              "      <th>7</th>\n",
              "      <td>2009-01-02</td>\n",
              "      <td>CVX</td>\n",
              "      <td>74.230003</td>\n",
              "      <td>77.300003</td>\n",
              "      <td>73.580002</td>\n",
              "      <td>43.677193</td>\n",
              "      <td>13695900.0</td>\n",
              "      <td>4.0</td>\n",
              "      <td>0.0</td>\n",
              "      <td>2.98139</td>\n",
              "      <td>2.652101</td>\n",
              "      <td>100.0</td>\n",
              "      <td>66.666667</td>\n",
              "      <td>100.0</td>\n",
              "      <td>43.677193</td>\n",
              "      <td>43.677193</td>\n",
              "      <td>39.189999</td>\n",
              "      <td>0.0</td>\n",
              "    </tr>\n",
              "    <tr>\n",
              "      <th>8</th>\n",
              "      <td>2009-01-02</td>\n",
              "      <td>DIS</td>\n",
              "      <td>22.760000</td>\n",
              "      <td>24.030001</td>\n",
              "      <td>22.500000</td>\n",
              "      <td>20.597496</td>\n",
              "      <td>9796600.0</td>\n",
              "      <td>4.0</td>\n",
              "      <td>0.0</td>\n",
              "      <td>2.98139</td>\n",
              "      <td>2.652101</td>\n",
              "      <td>100.0</td>\n",
              "      <td>66.666667</td>\n",
              "      <td>100.0</td>\n",
              "      <td>20.597496</td>\n",
              "      <td>20.597496</td>\n",
              "      <td>39.189999</td>\n",
              "      <td>0.0</td>\n",
              "    </tr>\n",
              "    <tr>\n",
              "      <th>9</th>\n",
              "      <td>2009-01-02</td>\n",
              "      <td>GS</td>\n",
              "      <td>84.019997</td>\n",
              "      <td>87.620003</td>\n",
              "      <td>82.190002</td>\n",
              "      <td>69.251740</td>\n",
              "      <td>14088500.0</td>\n",
              "      <td>4.0</td>\n",
              "      <td>0.0</td>\n",
              "      <td>2.98139</td>\n",
              "      <td>2.652101</td>\n",
              "      <td>100.0</td>\n",
              "      <td>66.666667</td>\n",
              "      <td>100.0</td>\n",
              "      <td>69.251740</td>\n",
              "      <td>69.251740</td>\n",
              "      <td>39.189999</td>\n",
              "      <td>0.0</td>\n",
              "    </tr>\n",
              "  </tbody>\n",
              "</table>\n",
              "</div>"
            ],
            "text/plain": [
              "         date   tic       open       high        low      close       volume  \\\n",
              "0  2009-01-02  AAPL   3.067143   3.251429   3.041429   2.758535  746015200.0   \n",
              "1  2009-01-02  AMGN  58.590000  59.080002  57.750000  43.832638    6547900.0   \n",
              "2  2009-01-02   AXP  18.570000  19.520000  18.400000  15.365300   10955700.0   \n",
              "3  2009-01-02    BA  42.799999  45.560001  42.779999  33.941086    7010200.0   \n",
              "4  2009-01-02   CAT  44.910000  46.980000  44.709999  31.579325    7117200.0   \n",
              "5  2009-01-02   CRM   8.025000   8.550000   7.912500   8.505000    4069200.0   \n",
              "6  2009-01-02  CSCO  16.410000  17.000000  16.250000  11.948337   40980600.0   \n",
              "7  2009-01-02   CVX  74.230003  77.300003  73.580002  43.677193   13695900.0   \n",
              "8  2009-01-02   DIS  22.760000  24.030001  22.500000  20.597496    9796600.0   \n",
              "9  2009-01-02    GS  84.019997  87.620003  82.190002  69.251740   14088500.0   \n",
              "\n",
              "   day  macd  boll_ub   boll_lb  rsi_30     cci_30  dx_30  close_30_sma  \\\n",
              "0  4.0   0.0  2.98139  2.652101   100.0  66.666667  100.0      2.758535   \n",
              "1  4.0   0.0  2.98139  2.652101   100.0  66.666667  100.0     43.832638   \n",
              "2  4.0   0.0  2.98139  2.652101   100.0  66.666667  100.0     15.365300   \n",
              "3  4.0   0.0  2.98139  2.652101   100.0  66.666667  100.0     33.941086   \n",
              "4  4.0   0.0  2.98139  2.652101   100.0  66.666667  100.0     31.579325   \n",
              "5  4.0   0.0  2.98139  2.652101   100.0  66.666667  100.0      8.505000   \n",
              "6  4.0   0.0  2.98139  2.652101   100.0  66.666667  100.0     11.948337   \n",
              "7  4.0   0.0  2.98139  2.652101   100.0  66.666667  100.0     43.677193   \n",
              "8  4.0   0.0  2.98139  2.652101   100.0  66.666667  100.0     20.597496   \n",
              "9  4.0   0.0  2.98139  2.652101   100.0  66.666667  100.0     69.251740   \n",
              "\n",
              "   close_60_sma        vix  turbulence  \n",
              "0      2.758535  39.189999         0.0  \n",
              "1     43.832638  39.189999         0.0  \n",
              "2     15.365300  39.189999         0.0  \n",
              "3     33.941086  39.189999         0.0  \n",
              "4     31.579325  39.189999         0.0  \n",
              "5      8.505000  39.189999         0.0  \n",
              "6     11.948337  39.189999         0.0  \n",
              "7     43.677193  39.189999         0.0  \n",
              "8     20.597496  39.189999         0.0  \n",
              "9     69.251740  39.189999         0.0  "
            ]
          },
          "execution_count": 39,
          "metadata": {},
          "output_type": "execute_result"
        }
      ],
      "source": [
        "processed_full.sort_values(['date','tic'],ignore_index=True).head(10)"
      ]
    },
    {
      "cell_type": "code",
      "execution_count": 40,
      "metadata": {
        "id": "5vdORQ384Qx-"
      },
      "outputs": [],
      "source": [
        "mvo_df = processed_full.sort_values(['date','tic'],ignore_index=True)[['date','tic','close']]"
      ]
    },
    {
      "cell_type": "code",
      "execution_count": 41,
      "metadata": {},
      "outputs": [
        {
          "data": {
            "text/plain": [
              "3578"
            ]
          },
          "execution_count": 41,
          "metadata": {},
          "output_type": "execute_result"
        }
      ],
      "source": [
        "int(len(mvo_df)/29)"
      ]
    },
    {
      "cell_type": "markdown",
      "metadata": {
        "id": "-QsYaY0Dh1iw"
      },
      "source": [
        "<a id='4'></a>\n",
        "# Part 5. Build A Market Environment in OpenAI Gym-style\n",
        "The training process involves observing stock price change, taking an action and reward's calculation. By interacting with the market environment, the agent will eventually derive a trading strategy that may maximize (expected) rewards.\n",
        "\n",
        "Our market environment, based on OpenAI Gym, simulates stock markets with historical market data."
      ]
    },
    {
      "cell_type": "markdown",
      "metadata": {
        "id": "5TOhcryx44bb"
      },
      "source": [
        "## Data Split\n",
        "We split the data into training set and testing set as follows:\n",
        "\n",
        "Training data period: 2009-01-01 to 2020-07-01\n",
        "\n",
        "Trading data period: 2020-07-01 to 2021-10-31\n"
      ]
    },
    {
      "cell_type": "code",
      "execution_count": 42,
      "metadata": {
        "colab": {
          "base_uri": "https://localhost:8080/"
        },
        "id": "W0qaVGjLtgbI",
        "outputId": "99d9a9eb-68ca-4e0b-f29a-16aeefe05693"
      },
      "outputs": [
        {
          "name": "stdout",
          "output_type": "stream",
          "text": [
            "82998\n",
            "20764\n"
          ]
        }
      ],
      "source": [
        "train = data_split(processed_full, TRAIN_START_DATE,TRAIN_END_DATE)\n",
        "trade = data_split(processed_full, TRADE_START_DATE,TRADE_END_DATE)\n",
        "print(len(train))\n",
        "print(len(trade))"
      ]
    },
    {
      "cell_type": "code",
      "execution_count": 43,
      "metadata": {
        "colab": {
          "base_uri": "https://localhost:8080/",
          "height": 357
        },
        "id": "p52zNCOhTtLR",
        "outputId": "22263b87-b851-4d0d-a584-8572bca8ff0d"
      },
      "outputs": [
        {
          "data": {
            "text/html": [
              "<div>\n",
              "<style scoped>\n",
              "    .dataframe tbody tr th:only-of-type {\n",
              "        vertical-align: middle;\n",
              "    }\n",
              "\n",
              "    .dataframe tbody tr th {\n",
              "        vertical-align: top;\n",
              "    }\n",
              "\n",
              "    .dataframe thead th {\n",
              "        text-align: right;\n",
              "    }\n",
              "</style>\n",
              "<table border=\"1\" class=\"dataframe\">\n",
              "  <thead>\n",
              "    <tr style=\"text-align: right;\">\n",
              "      <th></th>\n",
              "      <th>date</th>\n",
              "      <th>tic</th>\n",
              "      <th>open</th>\n",
              "      <th>high</th>\n",
              "      <th>low</th>\n",
              "      <th>close</th>\n",
              "      <th>volume</th>\n",
              "      <th>day</th>\n",
              "      <th>macd</th>\n",
              "      <th>boll_ub</th>\n",
              "      <th>boll_lb</th>\n",
              "      <th>rsi_30</th>\n",
              "      <th>cci_30</th>\n",
              "      <th>dx_30</th>\n",
              "      <th>close_30_sma</th>\n",
              "      <th>close_60_sma</th>\n",
              "      <th>vix</th>\n",
              "      <th>turbulence</th>\n",
              "    </tr>\n",
              "  </thead>\n",
              "  <tbody>\n",
              "    <tr>\n",
              "      <th>2861</th>\n",
              "      <td>2020-05-15</td>\n",
              "      <td>UNH</td>\n",
              "      <td>292.410004</td>\n",
              "      <td>300.000000</td>\n",
              "      <td>290.720001</td>\n",
              "      <td>278.924561</td>\n",
              "      <td>12182800.0</td>\n",
              "      <td>4.0</td>\n",
              "      <td>5.160587</td>\n",
              "      <td>285.176979</td>\n",
              "      <td>264.528547</td>\n",
              "      <td>53.716938</td>\n",
              "      <td>79.362418</td>\n",
              "      <td>19.780788</td>\n",
              "      <td>268.314393</td>\n",
              "      <td>255.255445</td>\n",
              "      <td>31.889999</td>\n",
              "      <td>35.410228</td>\n",
              "    </tr>\n",
              "    <tr>\n",
              "      <th>2861</th>\n",
              "      <td>2020-05-15</td>\n",
              "      <td>V</td>\n",
              "      <td>179.979996</td>\n",
              "      <td>184.139999</td>\n",
              "      <td>178.869995</td>\n",
              "      <td>180.102707</td>\n",
              "      <td>10785900.0</td>\n",
              "      <td>4.0</td>\n",
              "      <td>3.517954</td>\n",
              "      <td>186.313235</td>\n",
              "      <td>157.702489</td>\n",
              "      <td>53.034237</td>\n",
              "      <td>99.128412</td>\n",
              "      <td>3.903157</td>\n",
              "      <td>169.547552</td>\n",
              "      <td>168.528675</td>\n",
              "      <td>31.889999</td>\n",
              "      <td>35.410228</td>\n",
              "    </tr>\n",
              "    <tr>\n",
              "      <th>2861</th>\n",
              "      <td>2020-05-15</td>\n",
              "      <td>VZ</td>\n",
              "      <td>54.630001</td>\n",
              "      <td>54.759998</td>\n",
              "      <td>54.209999</td>\n",
              "      <td>47.802044</td>\n",
              "      <td>10174000.0</td>\n",
              "      <td>4.0</td>\n",
              "      <td>-0.226676</td>\n",
              "      <td>51.578625</td>\n",
              "      <td>47.485448</td>\n",
              "      <td>46.826977</td>\n",
              "      <td>-165.232211</td>\n",
              "      <td>31.385117</td>\n",
              "      <td>49.595336</td>\n",
              "      <td>48.362977</td>\n",
              "      <td>31.889999</td>\n",
              "      <td>35.410228</td>\n",
              "    </tr>\n",
              "    <tr>\n",
              "      <th>2861</th>\n",
              "      <td>2020-05-15</td>\n",
              "      <td>WBA</td>\n",
              "      <td>38.310001</td>\n",
              "      <td>38.480000</td>\n",
              "      <td>37.500000</td>\n",
              "      <td>33.706383</td>\n",
              "      <td>17309300.0</td>\n",
              "      <td>4.0</td>\n",
              "      <td>-1.254167</td>\n",
              "      <td>40.409373</td>\n",
              "      <td>33.426908</td>\n",
              "      <td>40.887173</td>\n",
              "      <td>-199.332983</td>\n",
              "      <td>39.816185</td>\n",
              "      <td>37.336545</td>\n",
              "      <td>39.112128</td>\n",
              "      <td>31.889999</td>\n",
              "      <td>35.410228</td>\n",
              "    </tr>\n",
              "    <tr>\n",
              "      <th>2861</th>\n",
              "      <td>2020-05-15</td>\n",
              "      <td>WMT</td>\n",
              "      <td>123.470001</td>\n",
              "      <td>125.940002</td>\n",
              "      <td>123.089996</td>\n",
              "      <td>120.613297</td>\n",
              "      <td>10590000.0</td>\n",
              "      <td>4.0</td>\n",
              "      <td>0.498670</td>\n",
              "      <td>125.450063</td>\n",
              "      <td>114.250609</td>\n",
              "      <td>54.354135</td>\n",
              "      <td>-8.839866</td>\n",
              "      <td>0.410854</td>\n",
              "      <td>119.906012</td>\n",
              "      <td>114.327324</td>\n",
              "      <td>31.889999</td>\n",
              "      <td>35.410228</td>\n",
              "    </tr>\n",
              "  </tbody>\n",
              "</table>\n",
              "</div>"
            ],
            "text/plain": [
              "            date  tic        open        high         low       close  \\\n",
              "2861  2020-05-15  UNH  292.410004  300.000000  290.720001  278.924561   \n",
              "2861  2020-05-15    V  179.979996  184.139999  178.869995  180.102707   \n",
              "2861  2020-05-15   VZ   54.630001   54.759998   54.209999   47.802044   \n",
              "2861  2020-05-15  WBA   38.310001   38.480000   37.500000   33.706383   \n",
              "2861  2020-05-15  WMT  123.470001  125.940002  123.089996  120.613297   \n",
              "\n",
              "          volume  day      macd     boll_ub     boll_lb     rsi_30  \\\n",
              "2861  12182800.0  4.0  5.160587  285.176979  264.528547  53.716938   \n",
              "2861  10785900.0  4.0  3.517954  186.313235  157.702489  53.034237   \n",
              "2861  10174000.0  4.0 -0.226676   51.578625   47.485448  46.826977   \n",
              "2861  17309300.0  4.0 -1.254167   40.409373   33.426908  40.887173   \n",
              "2861  10590000.0  4.0  0.498670  125.450063  114.250609  54.354135   \n",
              "\n",
              "          cci_30      dx_30  close_30_sma  close_60_sma        vix  turbulence  \n",
              "2861   79.362418  19.780788    268.314393    255.255445  31.889999   35.410228  \n",
              "2861   99.128412   3.903157    169.547552    168.528675  31.889999   35.410228  \n",
              "2861 -165.232211  31.385117     49.595336     48.362977  31.889999   35.410228  \n",
              "2861 -199.332983  39.816185     37.336545     39.112128  31.889999   35.410228  \n",
              "2861   -8.839866   0.410854    119.906012    114.327324  31.889999   35.410228  "
            ]
          },
          "execution_count": 43,
          "metadata": {},
          "output_type": "execute_result"
        }
      ],
      "source": [
        "train.tail()"
      ]
    },
    {
      "cell_type": "code",
      "execution_count": 44,
      "metadata": {
        "colab": {
          "base_uri": "https://localhost:8080/",
          "height": 357
        },
        "id": "k9zU9YaTTvFq",
        "outputId": "f8289fe9-674a-4456-aaea-9d021ddbb5a2"
      },
      "outputs": [
        {
          "data": {
            "text/html": [
              "<div>\n",
              "<style scoped>\n",
              "    .dataframe tbody tr th:only-of-type {\n",
              "        vertical-align: middle;\n",
              "    }\n",
              "\n",
              "    .dataframe tbody tr th {\n",
              "        vertical-align: top;\n",
              "    }\n",
              "\n",
              "    .dataframe thead th {\n",
              "        text-align: right;\n",
              "    }\n",
              "</style>\n",
              "<table border=\"1\" class=\"dataframe\">\n",
              "  <thead>\n",
              "    <tr style=\"text-align: right;\">\n",
              "      <th></th>\n",
              "      <th>date</th>\n",
              "      <th>tic</th>\n",
              "      <th>open</th>\n",
              "      <th>high</th>\n",
              "      <th>low</th>\n",
              "      <th>close</th>\n",
              "      <th>volume</th>\n",
              "      <th>day</th>\n",
              "      <th>macd</th>\n",
              "      <th>boll_ub</th>\n",
              "      <th>boll_lb</th>\n",
              "      <th>rsi_30</th>\n",
              "      <th>cci_30</th>\n",
              "      <th>dx_30</th>\n",
              "      <th>close_30_sma</th>\n",
              "      <th>close_60_sma</th>\n",
              "      <th>vix</th>\n",
              "      <th>turbulence</th>\n",
              "    </tr>\n",
              "  </thead>\n",
              "  <tbody>\n",
              "    <tr>\n",
              "      <th>0</th>\n",
              "      <td>2020-05-18</td>\n",
              "      <td>AAPL</td>\n",
              "      <td>78.292503</td>\n",
              "      <td>79.125000</td>\n",
              "      <td>77.580002</td>\n",
              "      <td>77.413994</td>\n",
              "      <td>135178400.0</td>\n",
              "      <td>0.0</td>\n",
              "      <td>2.628293</td>\n",
              "      <td>79.787529</td>\n",
              "      <td>65.136365</td>\n",
              "      <td>58.018322</td>\n",
              "      <td>128.081419</td>\n",
              "      <td>34.622794</td>\n",
              "      <td>70.754268</td>\n",
              "      <td>67.761637</td>\n",
              "      <td>29.299999</td>\n",
              "      <td>68.142521</td>\n",
              "    </tr>\n",
              "    <tr>\n",
              "      <th>0</th>\n",
              "      <td>2020-05-18</td>\n",
              "      <td>AMGN</td>\n",
              "      <td>243.660004</td>\n",
              "      <td>244.389999</td>\n",
              "      <td>231.800003</td>\n",
              "      <td>214.446991</td>\n",
              "      <td>5631400.0</td>\n",
              "      <td>0.0</td>\n",
              "      <td>4.237343</td>\n",
              "      <td>222.581971</td>\n",
              "      <td>208.394314</td>\n",
              "      <td>53.511963</td>\n",
              "      <td>57.692907</td>\n",
              "      <td>31.990941</td>\n",
              "      <td>211.469550</td>\n",
              "      <td>198.274530</td>\n",
              "      <td>29.299999</td>\n",
              "      <td>68.142521</td>\n",
              "    </tr>\n",
              "    <tr>\n",
              "      <th>0</th>\n",
              "      <td>2020-05-18</td>\n",
              "      <td>AXP</td>\n",
              "      <td>86.720001</td>\n",
              "      <td>89.000000</td>\n",
              "      <td>85.919998</td>\n",
              "      <td>85.229958</td>\n",
              "      <td>7781700.0</td>\n",
              "      <td>0.0</td>\n",
              "      <td>-1.096789</td>\n",
              "      <td>90.298286</td>\n",
              "      <td>74.832443</td>\n",
              "      <td>48.085964</td>\n",
              "      <td>33.068865</td>\n",
              "      <td>0.620002</td>\n",
              "      <td>83.116469</td>\n",
              "      <td>87.170144</td>\n",
              "      <td>29.299999</td>\n",
              "      <td>68.142521</td>\n",
              "    </tr>\n",
              "    <tr>\n",
              "      <th>0</th>\n",
              "      <td>2020-05-18</td>\n",
              "      <td>BA</td>\n",
              "      <td>126.180000</td>\n",
              "      <td>136.199997</td>\n",
              "      <td>125.800003</td>\n",
              "      <td>135.440002</td>\n",
              "      <td>43781800.0</td>\n",
              "      <td>0.0</td>\n",
              "      <td>-7.191083</td>\n",
              "      <td>142.655067</td>\n",
              "      <td>117.923934</td>\n",
              "      <td>42.534953</td>\n",
              "      <td>-29.016130</td>\n",
              "      <td>4.926572</td>\n",
              "      <td>135.367000</td>\n",
              "      <td>164.372832</td>\n",
              "      <td>29.299999</td>\n",
              "      <td>68.142521</td>\n",
              "    </tr>\n",
              "    <tr>\n",
              "      <th>0</th>\n",
              "      <td>2020-05-18</td>\n",
              "      <td>CAT</td>\n",
              "      <td>112.220001</td>\n",
              "      <td>115.660004</td>\n",
              "      <td>112.010002</td>\n",
              "      <td>108.081741</td>\n",
              "      <td>5603500.0</td>\n",
              "      <td>0.0</td>\n",
              "      <td>-1.169123</td>\n",
              "      <td>112.040905</td>\n",
              "      <td>96.223666</td>\n",
              "      <td>50.214106</td>\n",
              "      <td>17.694173</td>\n",
              "      <td>3.519003</td>\n",
              "      <td>106.144330</td>\n",
              "      <td>104.895563</td>\n",
              "      <td>29.299999</td>\n",
              "      <td>68.142521</td>\n",
              "    </tr>\n",
              "  </tbody>\n",
              "</table>\n",
              "</div>"
            ],
            "text/plain": [
              "         date   tic        open        high         low       close  \\\n",
              "0  2020-05-18  AAPL   78.292503   79.125000   77.580002   77.413994   \n",
              "0  2020-05-18  AMGN  243.660004  244.389999  231.800003  214.446991   \n",
              "0  2020-05-18   AXP   86.720001   89.000000   85.919998   85.229958   \n",
              "0  2020-05-18    BA  126.180000  136.199997  125.800003  135.440002   \n",
              "0  2020-05-18   CAT  112.220001  115.660004  112.010002  108.081741   \n",
              "\n",
              "        volume  day      macd     boll_ub     boll_lb     rsi_30      cci_30  \\\n",
              "0  135178400.0  0.0  2.628293   79.787529   65.136365  58.018322  128.081419   \n",
              "0    5631400.0  0.0  4.237343  222.581971  208.394314  53.511963   57.692907   \n",
              "0    7781700.0  0.0 -1.096789   90.298286   74.832443  48.085964   33.068865   \n",
              "0   43781800.0  0.0 -7.191083  142.655067  117.923934  42.534953  -29.016130   \n",
              "0    5603500.0  0.0 -1.169123  112.040905   96.223666  50.214106   17.694173   \n",
              "\n",
              "       dx_30  close_30_sma  close_60_sma        vix  turbulence  \n",
              "0  34.622794     70.754268     67.761637  29.299999   68.142521  \n",
              "0  31.990941    211.469550    198.274530  29.299999   68.142521  \n",
              "0   0.620002     83.116469     87.170144  29.299999   68.142521  \n",
              "0   4.926572    135.367000    164.372832  29.299999   68.142521  \n",
              "0   3.519003    106.144330    104.895563  29.299999   68.142521  "
            ]
          },
          "execution_count": 44,
          "metadata": {},
          "output_type": "execute_result"
        }
      ],
      "source": [
        "trade.head()"
      ]
    },
    {
      "cell_type": "code",
      "execution_count": 45,
      "metadata": {
        "colab": {
          "base_uri": "https://localhost:8080/"
        },
        "id": "zYN573SOHhxG",
        "outputId": "e8e3426a-3f41-4153-c5ff-80b9a997c9ee"
      },
      "outputs": [
        {
          "data": {
            "text/plain": [
              "['macd',\n",
              " 'boll_ub',\n",
              " 'boll_lb',\n",
              " 'rsi_30',\n",
              " 'cci_30',\n",
              " 'dx_30',\n",
              " 'close_30_sma',\n",
              " 'close_60_sma']"
            ]
          },
          "execution_count": 45,
          "metadata": {},
          "output_type": "execute_result"
        }
      ],
      "source": [
        "INDICATORS"
      ]
    },
    {
      "cell_type": "code",
      "execution_count": 46,
      "metadata": {
        "colab": {
          "base_uri": "https://localhost:8080/"
        },
        "id": "Q2zqII8rMIqn",
        "outputId": "0d415071-8d51-42f9-b141-f2122e272da6"
      },
      "outputs": [
        {
          "name": "stdout",
          "output_type": "stream",
          "text": [
            "Stock Dimension: 29, State Space: 291\n"
          ]
        }
      ],
      "source": [
        "stock_dimension = len(train.tic.unique())\n",
        "state_space = 1 + 2*stock_dimension + len(INDICATORS)*stock_dimension\n",
        "print(f\"Stock Dimension: {stock_dimension}, State Space: {state_space}\")"
      ]
    },
    {
      "cell_type": "code",
      "execution_count": 47,
      "metadata": {
        "id": "AWyp84Ltto19"
      },
      "outputs": [],
      "source": [
        "buy_cost_list = sell_cost_list = [0.001] * stock_dimension\n",
        "num_stock_shares = [0] * stock_dimension\n",
        "\n",
        "env_kwargs = {\n",
        "    \"hmax\": 100,\n",
        "    \"initial_amount\": 1000000,\n",
        "    \"num_stock_shares\": num_stock_shares,\n",
        "    \"buy_cost_pct\": buy_cost_list,\n",
        "    \"sell_cost_pct\": sell_cost_list,\n",
        "    \"state_space\": state_space,\n",
        "    \"stock_dim\": stock_dimension,\n",
        "    \"tech_indicator_list\": INDICATORS,\n",
        "    \"action_space\": stock_dimension,\n",
        "    \"reward_scaling\": 1e-4\n",
        "}\n",
        "\n",
        "\n",
        "e_train_gym = StockTradingEnv(df = train, **env_kwargs)"
      ]
    },
    {
      "cell_type": "markdown",
      "metadata": {
        "id": "64EoqOrQjiVf"
      },
      "source": [
        "## Environment for Training\n",
        "\n"
      ]
    },
    {
      "cell_type": "code",
      "execution_count": 48,
      "metadata": {
        "colab": {
          "base_uri": "https://localhost:8080/"
        },
        "id": "xwSvvPjutpqS",
        "outputId": "78c63dfc-e3c8-4d7a-f807-4ce7058d5384"
      },
      "outputs": [
        {
          "name": "stdout",
          "output_type": "stream",
          "text": [
            "<class 'stable_baselines3.common.vec_env.dummy_vec_env.DummyVecEnv'>\n"
          ]
        }
      ],
      "source": [
        "env_train, _ = e_train_gym.get_sb_env()\n",
        "print(type(env_train))"
      ]
    },
    {
      "cell_type": "markdown",
      "metadata": {
        "id": "HMNR5nHjh1iz"
      },
      "source": [
        "<a id='5'></a>\n",
        "# Part 6: Train DRL Agents\n",
        "* The DRL algorithms are from **Stable Baselines 3**. Users are also encouraged to try **ElegantRL** and **Ray RLlib**.\n",
        "* FinRL includes fine-tuned standard DRL algorithms, such as DQN, DDPG, Multi-Agent DDPG, PPO, SAC, A2C and TD3. We also allow users to\n",
        "design their own DRL algorithms by adapting these DRL algorithms."
      ]
    },
    {
      "cell_type": "code",
      "execution_count": 49,
      "metadata": {
        "id": "364PsqckttcQ"
      },
      "outputs": [],
      "source": [
        "agent = DRLAgent(env = env_train)\n",
        "\n",
        "if_using_a2c = False\n",
        "if_using_ddpg = False\n",
        "if_using_ppo = True\n",
        "if_using_td3 = False\n",
        "if_using_sac = False\n"
      ]
    },
    {
      "cell_type": "markdown",
      "metadata": {
        "id": "YDmqOyF9h1iz"
      },
      "source": [
        "### Agent Training: 5 algorithms (A2C, DDPG, PPO, TD3, SAC)\n"
      ]
    },
    {
      "cell_type": "markdown",
      "metadata": {
        "id": "uijiWgkuh1jB"
      },
      "source": [
        "### Agent 1: A2C\n"
      ]
    },
    {
      "cell_type": "code",
      "execution_count": 50,
      "metadata": {
        "colab": {
          "base_uri": "https://localhost:8080/"
        },
        "id": "GUCnkn-HIbmj",
        "outputId": "8be899ae-c772-46fd-e613-92dacfa9ed4c"
      },
      "outputs": [
        {
          "name": "stdout",
          "output_type": "stream",
          "text": [
            "{'n_steps': 5, 'ent_coef': 0.01, 'learning_rate': 0.0007}\n",
            "Using cpu device\n"
          ]
        }
      ],
      "source": [
        "agent = DRLAgent(env = env_train)\n",
        "model_a2c = agent.get_model(\"a2c\")\n",
        "\n",
        "if if_using_a2c:\n",
        "  # set up logger\n",
        "  tmp_path = RESULTS_DIR + '/a2c'\n",
        "  new_logger_a2c = configure(tmp_path, [\"stdout\", \"csv\", \"tensorboard\"])\n",
        "  # Set new logger\n",
        "  model_a2c.set_logger(new_logger_a2c)\n"
      ]
    },
    {
      "cell_type": "code",
      "execution_count": 51,
      "metadata": {
        "colab": {
          "base_uri": "https://localhost:8080/"
        },
        "id": "0GVpkWGqH4-D",
        "outputId": "4772e493-7857-4ea6-e091-a8fbc665f06b"
      },
      "outputs": [],
      "source": [
        "trained_a2c = agent.train_model(model=model_a2c, \n",
        "                             tb_log_name='a2c',\n",
        "                             total_timesteps=50000) if if_using_a2c else None"
      ]
    },
    {
      "cell_type": "markdown",
      "metadata": {
        "id": "MRiOtrywfAo1"
      },
      "source": [
        "### Agent 2: DDPG"
      ]
    },
    {
      "cell_type": "code",
      "execution_count": 52,
      "metadata": {
        "colab": {
          "base_uri": "https://localhost:8080/"
        },
        "id": "M2YadjfnLwgt",
        "outputId": "2daa7acb-8985-4122-84ca-74537316bef2"
      },
      "outputs": [
        {
          "name": "stdout",
          "output_type": "stream",
          "text": [
            "{'batch_size': 128, 'buffer_size': 50000, 'learning_rate': 0.001}\n",
            "Using cpu device\n"
          ]
        }
      ],
      "source": [
        "agent = DRLAgent(env = env_train)\n",
        "model_ddpg = agent.get_model(\"ddpg\")\n",
        "\n",
        "if if_using_ddpg:\n",
        "  # set up logger\n",
        "  tmp_path = RESULTS_DIR + '/ddpg'\n",
        "  new_logger_ddpg = configure(tmp_path, [\"stdout\", \"csv\", \"tensorboard\"])\n",
        "  # Set new logger\n",
        "  model_ddpg.set_logger(new_logger_ddpg)"
      ]
    },
    {
      "cell_type": "code",
      "execution_count": 53,
      "metadata": {
        "colab": {
          "base_uri": "https://localhost:8080/"
        },
        "id": "tCDa78rqfO_a",
        "outputId": "5ef7cb2f-7665-4266-8fab-2f9534de43cb"
      },
      "outputs": [],
      "source": [
        "trained_ddpg = agent.train_model(model=model_ddpg, \n",
        "                             tb_log_name='ddpg',\n",
        "                             total_timesteps=50000) if if_using_ddpg else None"
      ]
    },
    {
      "cell_type": "markdown",
      "metadata": {
        "id": "_gDkU-j-fCmZ"
      },
      "source": [
        "### Agent 3: PPO"
      ]
    },
    {
      "cell_type": "code",
      "execution_count": 54,
      "metadata": {
        "colab": {
          "base_uri": "https://localhost:8080/"
        },
        "id": "y5D5PFUhMzSV",
        "outputId": "54d861fd-b7d5-47f1-e0d6-fe8301a6fee3"
      },
      "outputs": [
        {
          "name": "stdout",
          "output_type": "stream",
          "text": [
            "{'n_steps': 2048, 'ent_coef': 0.01, 'learning_rate': 0.00025, 'batch_size': 128}\n",
            "Using cpu device\n",
            "Logging to results/ppo\n"
          ]
        }
      ],
      "source": [
        "agent = DRLAgent(env = env_train)\n",
        "PPO_PARAMS = {\n",
        "    \"n_steps\": 2048,\n",
        "    \"ent_coef\": 0.01,\n",
        "    \"learning_rate\": 0.00025,\n",
        "    \"batch_size\": 128,\n",
        "}\n",
        "model_ppo = agent.get_model(\"ppo\",model_kwargs = PPO_PARAMS)\n",
        "\n",
        "if if_using_ppo:\n",
        "  # set up logger\n",
        "  tmp_path = RESULTS_DIR + '/ppo'\n",
        "  new_logger_ppo = configure(tmp_path, [\"stdout\", \"csv\", \"tensorboard\"])\n",
        "  # Set new logger\n",
        "  model_ppo.set_logger(new_logger_ppo)"
      ]
    },
    {
      "cell_type": "code",
      "execution_count": 55,
      "metadata": {
        "colab": {
          "base_uri": "https://localhost:8080/"
        },
        "id": "Gt8eIQKYM4G3",
        "outputId": "52802a60-c084-4d89-96cf-b645177f7161"
      },
      "outputs": [
        {
          "name": "stdout",
          "output_type": "stream",
          "text": [
            "------------------------------------\n",
            "| time/              |             |\n",
            "|    fps             | 122         |\n",
            "|    iterations      | 1           |\n",
            "|    time_elapsed    | 16          |\n",
            "|    total_timesteps | 2048        |\n",
            "| train/             |             |\n",
            "|    reward          | 0.045826692 |\n",
            "------------------------------------\n"
          ]
        }
      ],
      "source": [
        "trained_ppo = agent.train_model(model=model_ppo, \n",
        "                             tb_log_name='ppo',\n",
        "                             total_timesteps=1000) if if_using_ppo else None"
      ]
    },
    {
      "cell_type": "markdown",
      "metadata": {
        "id": "3Zpv4S0-fDBv"
      },
      "source": [
        "### Agent 4: TD3"
      ]
    },
    {
      "cell_type": "code",
      "execution_count": 56,
      "metadata": {
        "colab": {
          "base_uri": "https://localhost:8080/"
        },
        "id": "JSAHhV4Xc-bh",
        "outputId": "4a18e366-4c60-4262-cebd-9f291072fdb6"
      },
      "outputs": [
        {
          "name": "stdout",
          "output_type": "stream",
          "text": [
            "{'batch_size': 100, 'buffer_size': 1000000, 'learning_rate': 0.001}\n",
            "Using cpu device\n"
          ]
        }
      ],
      "source": [
        "agent = DRLAgent(env = env_train)\n",
        "TD3_PARAMS = {\"batch_size\": 100, \n",
        "              \"buffer_size\": 1000000, \n",
        "              \"learning_rate\": 0.001}\n",
        "\n",
        "model_td3 = agent.get_model(\"td3\",model_kwargs = TD3_PARAMS)\n",
        "\n",
        "if if_using_td3:\n",
        "  # set up logger\n",
        "  tmp_path = RESULTS_DIR + '/td3'\n",
        "  new_logger_td3 = configure(tmp_path, [\"stdout\", \"csv\", \"tensorboard\"])\n",
        "  # Set new logger\n",
        "  model_td3.set_logger(new_logger_td3)"
      ]
    },
    {
      "cell_type": "code",
      "execution_count": 57,
      "metadata": {
        "colab": {
          "base_uri": "https://localhost:8080/"
        },
        "id": "OSRxNYAxdKpU",
        "outputId": "5891ff4e-c36e-4ab7-97e7-75ce12630eeb"
      },
      "outputs": [],
      "source": [
        "trained_td3 = agent.train_model(model=model_td3, \n",
        "                             tb_log_name='td3',\n",
        "                             total_timesteps=50000) if if_using_td3 else None"
      ]
    },
    {
      "cell_type": "markdown",
      "metadata": {
        "id": "Dr49PotrfG01"
      },
      "source": [
        "### Agent 5: SAC"
      ]
    },
    {
      "cell_type": "code",
      "execution_count": 58,
      "metadata": {
        "colab": {
          "base_uri": "https://localhost:8080/"
        },
        "id": "xwOhVjqRkCdM",
        "outputId": "bf6bfbf2-251a-4c76-ac72-1730dbc71eac"
      },
      "outputs": [
        {
          "name": "stdout",
          "output_type": "stream",
          "text": [
            "{'batch_size': 128, 'buffer_size': 100000, 'learning_rate': 0.0001, 'learning_starts': 100, 'ent_coef': 'auto_0.1'}\n",
            "Using cpu device\n"
          ]
        }
      ],
      "source": [
        "agent = DRLAgent(env = env_train)\n",
        "SAC_PARAMS = {\n",
        "    \"batch_size\": 128,\n",
        "    \"buffer_size\": 100000,\n",
        "    \"learning_rate\": 0.0001,\n",
        "    \"learning_starts\": 100,\n",
        "    \"ent_coef\": \"auto_0.1\",\n",
        "}\n",
        "\n",
        "model_sac = agent.get_model(\"sac\",model_kwargs = SAC_PARAMS)\n",
        "\n",
        "if if_using_sac:\n",
        "  # set up logger\n",
        "  tmp_path = RESULTS_DIR + '/sac'\n",
        "  new_logger_sac = configure(tmp_path, [\"stdout\", \"csv\", \"tensorboard\"])\n",
        "  # Set new logger\n",
        "  model_sac.set_logger(new_logger_sac)"
      ]
    },
    {
      "cell_type": "code",
      "execution_count": 59,
      "metadata": {
        "colab": {
          "base_uri": "https://localhost:8080/"
        },
        "id": "K8RSdKCckJyH",
        "outputId": "313f9f27-3b80-4b00-d2ce-6bc5ea86ca27"
      },
      "outputs": [],
      "source": [
        "trained_sac = agent.train_model(model=model_sac, \n",
        "                             tb_log_name='sac',\n",
        "                             total_timesteps=50000) if if_using_sac else None"
      ]
    },
    {
      "cell_type": "markdown",
      "metadata": {
        "id": "f2wZgkQXh1jE"
      },
      "source": [
        "## In-sample Performance\n",
        "\n",
        "Assume that the initial capital is $1,000,000."
      ]
    },
    {
      "cell_type": "markdown",
      "metadata": {
        "id": "bEv5KGC8h1jE"
      },
      "source": [
        "### Set turbulence threshold\n",
        "Set the turbulence threshold to be greater than the maximum of insample turbulence data. If current turbulence index is greater than the threshold, then we assume that the current market is volatile"
      ]
    },
    {
      "cell_type": "code",
      "execution_count": 60,
      "metadata": {
        "id": "efwBi84ch1jE"
      },
      "outputs": [],
      "source": [
        "data_risk_indicator = processed_full[(processed_full.date<TRAIN_END_DATE) & (processed_full.date>=TRAIN_START_DATE)]\n",
        "insample_risk_indicator = data_risk_indicator.drop_duplicates(subset=['date'])"
      ]
    },
    {
      "cell_type": "code",
      "execution_count": 61,
      "metadata": {
        "colab": {
          "base_uri": "https://localhost:8080/"
        },
        "id": "VHZMBpSqh1jG",
        "outputId": "ff203a99-ab49-4970-810a-645f30fab21c"
      },
      "outputs": [
        {
          "data": {
            "text/plain": [
              "count    2862.000000\n",
              "mean       18.699046\n",
              "std         8.440450\n",
              "min         9.140000\n",
              "25%        13.310000\n",
              "50%        16.075000\n",
              "75%        21.087500\n",
              "max        82.690002\n",
              "Name: vix, dtype: float64"
            ]
          },
          "execution_count": 61,
          "metadata": {},
          "output_type": "execute_result"
        }
      ],
      "source": [
        "insample_risk_indicator.vix.describe()"
      ]
    },
    {
      "cell_type": "code",
      "execution_count": 62,
      "metadata": {
        "colab": {
          "base_uri": "https://localhost:8080/"
        },
        "id": "BDkszkMloRWT",
        "outputId": "3fae2054-33b6-40da-f057-78da8dda3077"
      },
      "outputs": [
        {
          "data": {
            "text/plain": [
              "57.49700183105472"
            ]
          },
          "execution_count": 62,
          "metadata": {},
          "output_type": "execute_result"
        }
      ],
      "source": [
        "insample_risk_indicator.vix.quantile(0.996)"
      ]
    },
    {
      "cell_type": "code",
      "execution_count": 63,
      "metadata": {
        "colab": {
          "base_uri": "https://localhost:8080/"
        },
        "id": "AL7hs7svnNWT",
        "outputId": "7ff675ad-25b8-4d26-ef32-f58237d20b00"
      },
      "outputs": [
        {
          "data": {
            "text/plain": [
              "count    2862.000000\n",
              "mean       34.582518\n",
              "std        43.997244\n",
              "min         0.000000\n",
              "25%        14.908575\n",
              "50%        24.046635\n",
              "75%        39.165886\n",
              "max       652.505549\n",
              "Name: turbulence, dtype: float64"
            ]
          },
          "execution_count": 63,
          "metadata": {},
          "output_type": "execute_result"
        }
      ],
      "source": [
        "insample_risk_indicator.turbulence.describe()"
      ]
    },
    {
      "cell_type": "code",
      "execution_count": 64,
      "metadata": {
        "colab": {
          "base_uri": "https://localhost:8080/"
        },
        "id": "N78hfHckoqJ9",
        "outputId": "f5e548c1-6891-4209-cbff-0e25b54fc8aa"
      },
      "outputs": [
        {
          "data": {
            "text/plain": [
              "276.9712467178993"
            ]
          },
          "execution_count": 64,
          "metadata": {},
          "output_type": "execute_result"
        }
      ],
      "source": [
        "insample_risk_indicator.turbulence.quantile(0.996)"
      ]
    },
    {
      "cell_type": "markdown",
      "metadata": {
        "id": "U5mmgQF_h1jQ"
      },
      "source": [
        "### Trading (Out-of-sample Performance)\n",
        "\n",
        "We update periodically in order to take full advantage of the data, e.g., retrain quarterly, monthly or weekly. We also tune the parameters along the way, in this notebook we use the in-sample data from 2009-01 to 2020-07 to tune the parameters once, so there is some alpha decay here as the length of trade date extends. \n",
        "\n",
        "Numerous hyperparameters – e.g. the learning rate, the total number of samples to train on – influence the learning process and are usually determined by testing some variations."
      ]
    },
    {
      "cell_type": "code",
      "execution_count": 65,
      "metadata": {
        "id": "cIqoV0GSI52v"
      },
      "outputs": [],
      "source": [
        "e_trade_gym = StockTradingEnv(df = trade, turbulence_threshold = 70,risk_indicator_col='vix', **env_kwargs)\n",
        "env_trade, obs_trade = e_trade_gym.get_sb_env()"
      ]
    },
    {
      "cell_type": "code",
      "execution_count": 66,
      "metadata": {
        "colab": {
          "base_uri": "https://localhost:8080/",
          "height": 0
        },
        "id": "W_XNgGsBMeVw",
        "outputId": "45a92b16-4907-421b-bf48-8b0ff4bff45b"
      },
      "outputs": [
        {
          "data": {
            "text/html": [
              "<div>\n",
              "<style scoped>\n",
              "    .dataframe tbody tr th:only-of-type {\n",
              "        vertical-align: middle;\n",
              "    }\n",
              "\n",
              "    .dataframe tbody tr th {\n",
              "        vertical-align: top;\n",
              "    }\n",
              "\n",
              "    .dataframe thead th {\n",
              "        text-align: right;\n",
              "    }\n",
              "</style>\n",
              "<table border=\"1\" class=\"dataframe\">\n",
              "  <thead>\n",
              "    <tr style=\"text-align: right;\">\n",
              "      <th></th>\n",
              "      <th>date</th>\n",
              "      <th>tic</th>\n",
              "      <th>open</th>\n",
              "      <th>high</th>\n",
              "      <th>low</th>\n",
              "      <th>close</th>\n",
              "      <th>volume</th>\n",
              "      <th>day</th>\n",
              "      <th>macd</th>\n",
              "      <th>boll_ub</th>\n",
              "      <th>boll_lb</th>\n",
              "      <th>rsi_30</th>\n",
              "      <th>cci_30</th>\n",
              "      <th>dx_30</th>\n",
              "      <th>close_30_sma</th>\n",
              "      <th>close_60_sma</th>\n",
              "      <th>vix</th>\n",
              "      <th>turbulence</th>\n",
              "    </tr>\n",
              "  </thead>\n",
              "  <tbody>\n",
              "    <tr>\n",
              "      <th>0</th>\n",
              "      <td>2020-05-18</td>\n",
              "      <td>AAPL</td>\n",
              "      <td>78.292503</td>\n",
              "      <td>79.125000</td>\n",
              "      <td>77.580002</td>\n",
              "      <td>77.413994</td>\n",
              "      <td>135178400.0</td>\n",
              "      <td>0.0</td>\n",
              "      <td>2.628293</td>\n",
              "      <td>79.787529</td>\n",
              "      <td>65.136365</td>\n",
              "      <td>58.018322</td>\n",
              "      <td>128.081419</td>\n",
              "      <td>34.622794</td>\n",
              "      <td>70.754268</td>\n",
              "      <td>67.761637</td>\n",
              "      <td>29.299999</td>\n",
              "      <td>68.142521</td>\n",
              "    </tr>\n",
              "    <tr>\n",
              "      <th>0</th>\n",
              "      <td>2020-05-18</td>\n",
              "      <td>AMGN</td>\n",
              "      <td>243.660004</td>\n",
              "      <td>244.389999</td>\n",
              "      <td>231.800003</td>\n",
              "      <td>214.446991</td>\n",
              "      <td>5631400.0</td>\n",
              "      <td>0.0</td>\n",
              "      <td>4.237343</td>\n",
              "      <td>222.581971</td>\n",
              "      <td>208.394314</td>\n",
              "      <td>53.511963</td>\n",
              "      <td>57.692907</td>\n",
              "      <td>31.990941</td>\n",
              "      <td>211.469550</td>\n",
              "      <td>198.274530</td>\n",
              "      <td>29.299999</td>\n",
              "      <td>68.142521</td>\n",
              "    </tr>\n",
              "    <tr>\n",
              "      <th>0</th>\n",
              "      <td>2020-05-18</td>\n",
              "      <td>AXP</td>\n",
              "      <td>86.720001</td>\n",
              "      <td>89.000000</td>\n",
              "      <td>85.919998</td>\n",
              "      <td>85.229958</td>\n",
              "      <td>7781700.0</td>\n",
              "      <td>0.0</td>\n",
              "      <td>-1.096789</td>\n",
              "      <td>90.298286</td>\n",
              "      <td>74.832443</td>\n",
              "      <td>48.085964</td>\n",
              "      <td>33.068865</td>\n",
              "      <td>0.620002</td>\n",
              "      <td>83.116469</td>\n",
              "      <td>87.170144</td>\n",
              "      <td>29.299999</td>\n",
              "      <td>68.142521</td>\n",
              "    </tr>\n",
              "    <tr>\n",
              "      <th>0</th>\n",
              "      <td>2020-05-18</td>\n",
              "      <td>BA</td>\n",
              "      <td>126.180000</td>\n",
              "      <td>136.199997</td>\n",
              "      <td>125.800003</td>\n",
              "      <td>135.440002</td>\n",
              "      <td>43781800.0</td>\n",
              "      <td>0.0</td>\n",
              "      <td>-7.191083</td>\n",
              "      <td>142.655067</td>\n",
              "      <td>117.923934</td>\n",
              "      <td>42.534953</td>\n",
              "      <td>-29.016130</td>\n",
              "      <td>4.926572</td>\n",
              "      <td>135.367000</td>\n",
              "      <td>164.372832</td>\n",
              "      <td>29.299999</td>\n",
              "      <td>68.142521</td>\n",
              "    </tr>\n",
              "    <tr>\n",
              "      <th>0</th>\n",
              "      <td>2020-05-18</td>\n",
              "      <td>CAT</td>\n",
              "      <td>112.220001</td>\n",
              "      <td>115.660004</td>\n",
              "      <td>112.010002</td>\n",
              "      <td>108.081741</td>\n",
              "      <td>5603500.0</td>\n",
              "      <td>0.0</td>\n",
              "      <td>-1.169123</td>\n",
              "      <td>112.040905</td>\n",
              "      <td>96.223666</td>\n",
              "      <td>50.214106</td>\n",
              "      <td>17.694173</td>\n",
              "      <td>3.519003</td>\n",
              "      <td>106.144330</td>\n",
              "      <td>104.895563</td>\n",
              "      <td>29.299999</td>\n",
              "      <td>68.142521</td>\n",
              "    </tr>\n",
              "  </tbody>\n",
              "</table>\n",
              "</div>"
            ],
            "text/plain": [
              "         date   tic        open        high         low       close  \\\n",
              "0  2020-05-18  AAPL   78.292503   79.125000   77.580002   77.413994   \n",
              "0  2020-05-18  AMGN  243.660004  244.389999  231.800003  214.446991   \n",
              "0  2020-05-18   AXP   86.720001   89.000000   85.919998   85.229958   \n",
              "0  2020-05-18    BA  126.180000  136.199997  125.800003  135.440002   \n",
              "0  2020-05-18   CAT  112.220001  115.660004  112.010002  108.081741   \n",
              "\n",
              "        volume  day      macd     boll_ub     boll_lb     rsi_30      cci_30  \\\n",
              "0  135178400.0  0.0  2.628293   79.787529   65.136365  58.018322  128.081419   \n",
              "0    5631400.0  0.0  4.237343  222.581971  208.394314  53.511963   57.692907   \n",
              "0    7781700.0  0.0 -1.096789   90.298286   74.832443  48.085964   33.068865   \n",
              "0   43781800.0  0.0 -7.191083  142.655067  117.923934  42.534953  -29.016130   \n",
              "0    5603500.0  0.0 -1.169123  112.040905   96.223666  50.214106   17.694173   \n",
              "\n",
              "       dx_30  close_30_sma  close_60_sma        vix  turbulence  \n",
              "0  34.622794     70.754268     67.761637  29.299999   68.142521  \n",
              "0  31.990941    211.469550    198.274530  29.299999   68.142521  \n",
              "0   0.620002     83.116469     87.170144  29.299999   68.142521  \n",
              "0   4.926572    135.367000    164.372832  29.299999   68.142521  \n",
              "0   3.519003    106.144330    104.895563  29.299999   68.142521  "
            ]
          },
          "execution_count": 66,
          "metadata": {},
          "output_type": "execute_result"
        }
      ],
      "source": [
        "trade.head()"
      ]
    },
    {
      "cell_type": "code",
      "execution_count": 67,
      "metadata": {
        "colab": {
          "base_uri": "https://localhost:8080/"
        },
        "id": "lbFchno5j3xs",
        "outputId": "946fea4e-15e2-4611-9d14-01364e4ad00a"
      },
      "outputs": [
        {
          "ename": "AttributeError",
          "evalue": "'NoneType' object has no attribute 'predict'",
          "output_type": "error",
          "traceback": [
            "\u001b[0;31m---------------------------------------------------------------------------\u001b[0m",
            "\u001b[0;31mAttributeError\u001b[0m                            Traceback (most recent call last)",
            "Cell \u001b[0;32mIn[67], line 2\u001b[0m\n\u001b[1;32m      1\u001b[0m trained_moedl \u001b[39m=\u001b[39m trained_a2c\n\u001b[0;32m----> 2\u001b[0m df_account_value_a2c, df_actions_a2c \u001b[39m=\u001b[39m DRLAgent\u001b[39m.\u001b[39;49mDRL_prediction(\n\u001b[1;32m      3\u001b[0m     model\u001b[39m=\u001b[39;49mtrained_moedl, \n\u001b[1;32m      4\u001b[0m     environment \u001b[39m=\u001b[39;49m e_trade_gym)\n",
            "File \u001b[0;32m~/Bureau/VSCode/Stock_drl/Stock_drl/module/models.py:119\u001b[0m, in \u001b[0;36mDRLAgent.DRL_prediction\u001b[0;34m(model, environment, deterministic)\u001b[0m\n\u001b[1;32m    117\u001b[0m test_env\u001b[39m.\u001b[39mreset()\n\u001b[1;32m    118\u001b[0m \u001b[39mfor\u001b[39;00m i \u001b[39min\u001b[39;00m \u001b[39mrange\u001b[39m(\u001b[39mlen\u001b[39m(environment\u001b[39m.\u001b[39mdf\u001b[39m.\u001b[39mindex\u001b[39m.\u001b[39munique())):\n\u001b[0;32m--> 119\u001b[0m     action, _states \u001b[39m=\u001b[39m model\u001b[39m.\u001b[39;49mpredict(test_obs, deterministic\u001b[39m=\u001b[39mdeterministic)\n\u001b[1;32m    120\u001b[0m     \u001b[39m# account_memory = test_env.env_method(method_name=\"save_asset_memory\")\u001b[39;00m\n\u001b[1;32m    121\u001b[0m     \u001b[39m# actions_memory = test_env.env_method(method_name=\"save_action_memory\")\u001b[39;00m\n\u001b[1;32m    122\u001b[0m     test_obs, rewards, dones, info \u001b[39m=\u001b[39m test_env\u001b[39m.\u001b[39mstep(action)\n",
            "\u001b[0;31mAttributeError\u001b[0m: 'NoneType' object has no attribute 'predict'"
          ]
        }
      ],
      "source": [
        "trained_moedl = trained_a2c\n",
        "df_account_value_a2c, df_actions_a2c = DRLAgent.DRL_prediction(\n",
        "    model=trained_moedl, \n",
        "    environment = e_trade_gym)"
      ]
    },
    {
      "cell_type": "code",
      "execution_count": null,
      "metadata": {
        "colab": {
          "base_uri": "https://localhost:8080/"
        },
        "id": "JbYljWGjj3pH",
        "outputId": "65145e7d-15ff-4e62-94f9-e5256297d5c7"
      },
      "outputs": [
        {
          "name": "stdout",
          "output_type": "stream",
          "text": [
            "hit end!\n"
          ]
        }
      ],
      "source": [
        "trained_moedl = trained_ddpg\n",
        "df_account_value_ddpg, df_actions_ddpg = DRLAgent.DRL_prediction(\n",
        "    model=trained_moedl, \n",
        "    environment = e_trade_gym)"
      ]
    },
    {
      "cell_type": "code",
      "execution_count": 68,
      "metadata": {
        "colab": {
          "base_uri": "https://localhost:8080/"
        },
        "id": "74jNP2DBj3hb",
        "outputId": "f20ffd89-2b19-4340-9588-10e64a6b3b8c"
      },
      "outputs": [
        {
          "name": "stdout",
          "output_type": "stream",
          "text": [
            "hit end!\n"
          ]
        }
      ],
      "source": [
        "trained_moedl = trained_ppo\n",
        "df_account_value_ppo, df_actions_ppo = DRLAgent.DRL_prediction(\n",
        "    model=trained_moedl, \n",
        "    environment = e_trade_gym)"
      ]
    },
    {
      "cell_type": "code",
      "execution_count": null,
      "metadata": {
        "colab": {
          "base_uri": "https://localhost:8080/"
        },
        "id": "S7VyGGJPj3SH",
        "outputId": "a3b915fb-540f-4540-b0eb-c3ce085d59ff"
      },
      "outputs": [
        {
          "name": "stdout",
          "output_type": "stream",
          "text": [
            "hit end!\n"
          ]
        }
      ],
      "source": [
        "trained_moedl = trained_td3\n",
        "df_account_value_td3, df_actions_td3 = DRLAgent.DRL_prediction(\n",
        "    model=trained_moedl, \n",
        "    environment = e_trade_gym)"
      ]
    },
    {
      "cell_type": "code",
      "execution_count": null,
      "metadata": {
        "colab": {
          "base_uri": "https://localhost:8080/"
        },
        "id": "eLOnL5eYh1jR",
        "outputId": "0fa13ef0-b55f-4ca1-ac2c-e007913016ab"
      },
      "outputs": [
        {
          "name": "stdout",
          "output_type": "stream",
          "text": [
            "hit end!\n"
          ]
        }
      ],
      "source": [
        "trained_moedl = trained_sac\n",
        "df_account_value_sac, df_actions_sac = DRLAgent.DRL_prediction(\n",
        "    model=trained_moedl, \n",
        "    environment = e_trade_gym)"
      ]
    },
    {
      "cell_type": "markdown",
      "metadata": {
        "id": "GcE-t08w6DaW"
      },
      "source": [
        "<a id='7'></a>\n",
        "# Part 6.5: Mean Variance Optimization"
      ]
    },
    {
      "cell_type": "markdown",
      "metadata": {
        "id": "SwEwkHJ1d_6u"
      },
      "source": [
        "### Helper functions"
      ]
    },
    {
      "cell_type": "markdown",
      "metadata": {
        "id": "IeVVbuwveJ_5"
      },
      "source": [
        "### Calculate mean returns and variance-covariance matrix"
      ]
    },
    {
      "cell_type": "markdown",
      "metadata": {
        "id": "W6vvNSC6h1jZ"
      },
      "source": [
        "<a id='6'></a>\n",
        "# Part 7: Backtesting Results\n",
        "Backtesting plays a key role in evaluating the performance of a trading strategy. Automated backtesting tool is preferred because it reduces the human error. We usually use the Quantopian pyfolio package to backtest our trading strategies. It is easy to use and consists of various individual plots that provide a comprehensive image of the performance of a trading strategy."
      ]
    },
    {
      "cell_type": "code",
      "execution_count": null,
      "metadata": {
        "id": "KeDeGAc9VrEg"
      },
      "outputs": [],
      "source": [
        "df_result_a2c = df_account_value_a2c.set_index(df_account_value_a2c.columns[0])\n",
        "df_result_ddpg = df_account_value_ddpg.set_index(df_account_value_ddpg.columns[0])\n",
        "df_result_td3 = df_account_value_td3.set_index(df_account_value_td3.columns[0])\n",
        "df_result_ppo = df_account_value_ppo.set_index(df_account_value_ppo.columns[0])\n",
        "df_result_sac = df_account_value_sac.set_index(df_account_value_sac.columns[0])\n",
        "\n",
        "result = pd.merge(df_result_a2c, df_result_ddpg, left_index=True, right_index=True)\n",
        "result = pd.merge(result, df_result_td3, left_index=True, right_index=True)\n",
        "result = pd.merge(result, df_result_ppo, left_index=True, right_index=True)\n",
        "result = pd.merge(result, df_result_sac, left_index=True, right_index=True)\n",
        "result.columns = ['a2c', 'ddpg', 'td3', 'ppo', 'sac']"
      ]
    },
    {
      "cell_type": "code",
      "execution_count": null,
      "metadata": {
        "colab": {
          "base_uri": "https://localhost:8080/",
          "height": 363
        },
        "id": "6xRfrqK4RVfq",
        "outputId": "868e3da5-3df9-4d54-b181-f630093210f2"
      },
      "outputs": [],
      "source": [
        "plt.rcParams[\"figure.figsize\"] = (15,5)\n",
        "plt.figure()\n",
        "result.plot()\n",
        "plt.savefig(\"trained_models/models_\" + \".jpg\")"
      ]
    },
    {
      "cell_type": "code",
      "execution_count": null,
      "metadata": {},
      "outputs": [
        {
          "data": {
            "text/html": [
              "<div>\n",
              "<style scoped>\n",
              "    .dataframe tbody tr th:only-of-type {\n",
              "        vertical-align: middle;\n",
              "    }\n",
              "\n",
              "    .dataframe tbody tr th {\n",
              "        vertical-align: top;\n",
              "    }\n",
              "\n",
              "    .dataframe thead th {\n",
              "        text-align: right;\n",
              "    }\n",
              "</style>\n",
              "<table border=\"1\" class=\"dataframe\">\n",
              "  <thead>\n",
              "    <tr style=\"text-align: right;\">\n",
              "      <th></th>\n",
              "      <th>a2c</th>\n",
              "      <th>ddpg</th>\n",
              "      <th>td3</th>\n",
              "      <th>ppo</th>\n",
              "      <th>sac</th>\n",
              "    </tr>\n",
              "    <tr>\n",
              "      <th>date</th>\n",
              "      <th></th>\n",
              "      <th></th>\n",
              "      <th></th>\n",
              "      <th></th>\n",
              "      <th></th>\n",
              "    </tr>\n",
              "  </thead>\n",
              "  <tbody>\n",
              "    <tr>\n",
              "      <th>2023-03-17</th>\n",
              "      <td>1.286389e+06</td>\n",
              "      <td>1.266192e+06</td>\n",
              "      <td>1.506513e+06</td>\n",
              "      <td>1.286005e+06</td>\n",
              "      <td>1.448611e+06</td>\n",
              "    </tr>\n",
              "  </tbody>\n",
              "</table>\n",
              "</div>"
            ],
            "text/plain": [
              "                     a2c          ddpg           td3           ppo  \\\n",
              "date                                                                 \n",
              "2023-03-17  1.286389e+06  1.266192e+06  1.506513e+06  1.286005e+06   \n",
              "\n",
              "                     sac  \n",
              "date                      \n",
              "2023-03-17  1.448611e+06  "
            ]
          },
          "execution_count": 47,
          "metadata": {},
          "output_type": "execute_result"
        }
      ],
      "source": [
        "result.tail(1)"
      ]
    },
    {
      "cell_type": "code",
      "execution_count": null,
      "metadata": {},
      "outputs": [
        {
          "name": "stdout",
          "output_type": "stream",
          "text": [
            "Annual return          0.139742\n",
            "Cumulative returns     0.448611\n",
            "Annual volatility      0.168389\n",
            "Sharpe ratio           0.862391\n",
            "Calmar ratio           0.821600\n",
            "Stability              0.763056\n",
            "Max drawdown          -0.170085\n",
            "Omega ratio            1.155094\n",
            "Sortino ratio          1.217187\n",
            "Skew                        NaN\n",
            "Kurtosis                    NaN\n",
            "Tail ratio             0.987886\n",
            "Daily value at risk   -0.020639\n",
            "dtype: float64\n",
            "Annual return          0.086867\n",
            "Cumulative returns     0.266192\n",
            "Annual volatility      0.208057\n",
            "Sharpe ratio           0.505201\n",
            "Calmar ratio           0.298338\n",
            "Stability              0.124270\n",
            "Max drawdown          -0.291169\n",
            "Omega ratio            1.089099\n",
            "Sortino ratio          0.709201\n",
            "Skew                        NaN\n",
            "Kurtosis                    NaN\n",
            "Tail ratio             1.034249\n",
            "Daily value at risk   -0.025796\n",
            "dtype: float64\n",
            "Annual return          0.092839\n",
            "Cumulative returns     0.286005\n",
            "Annual volatility      0.168020\n",
            "Sharpe ratio           0.613177\n",
            "Calmar ratio           0.516616\n",
            "Stability              0.460902\n",
            "Max drawdown          -0.179706\n",
            "Omega ratio            1.108964\n",
            "Sortino ratio          0.873714\n",
            "Skew                        NaN\n",
            "Kurtosis                    NaN\n",
            "Tail ratio             1.008431\n",
            "Daily value at risk   -0.020760\n",
            "dtype: float64\n",
            "Annual return          0.155617\n",
            "Cumulative returns     0.506513\n",
            "Annual volatility      0.184815\n",
            "Sharpe ratio           0.876494\n",
            "Calmar ratio           0.780747\n",
            "Stability              0.641620\n",
            "Max drawdown          -0.199318\n",
            "Omega ratio            1.161192\n",
            "Sortino ratio          1.239245\n",
            "Skew                        NaN\n",
            "Kurtosis                    NaN\n",
            "Tail ratio             0.995540\n",
            "Daily value at risk   -0.022642\n",
            "dtype: float64\n",
            "Annual return          0.092954\n",
            "Cumulative returns     0.286389\n",
            "Annual volatility      0.188312\n",
            "Sharpe ratio           0.566972\n",
            "Calmar ratio           0.347376\n",
            "Stability              0.137562\n",
            "Max drawdown          -0.267590\n",
            "Omega ratio            1.102588\n",
            "Sortino ratio          0.796860\n",
            "Skew                        NaN\n",
            "Kurtosis                    NaN\n",
            "Tail ratio             0.957660\n",
            "Daily value at risk   -0.023301\n",
            "dtype: float64\n"
          ]
        }
      ],
      "source": [
        "\n",
        "now = datetime.datetime.now().strftime('%Y%m%d-%Hh%M')\n",
        "\n",
        "perf_stats_sac = helper.backtest_stats(account_value = df_account_value_sac)\n",
        "perf_stats_sac = pd.DataFrame(perf_stats_sac)\n",
        "\n",
        "perf_stats_ddpg = helper.backtest_stats(account_value = df_account_value_ddpg)\n",
        "perf_stats_ddpg = pd.DataFrame(perf_stats_ddpg)\n",
        "\n",
        "perf_stats_ppo = helper.backtest_stats(account_value = df_account_value_ppo)\n",
        "perf_stats_ppo = pd.DataFrame(perf_stats_ppo)\n",
        "\n",
        "perf_stats_td3 = helper.backtest_stats(account_value = df_account_value_td3)\n",
        "perf_stats_td3 = pd.DataFrame(perf_stats_td3)\n",
        "\n",
        "perf_stats_a2c = helper.backtest_stats(account_value = df_account_value_a2c)\n",
        "perf_stats_a2c = pd.DataFrame(perf_stats_a2c)\n",
        "\n"
      ]
    },
    {
      "cell_type": "code",
      "execution_count": null,
      "metadata": {},
      "outputs": [
        {
          "name": "stdout",
          "output_type": "stream",
          "text": [
            "[*********************100%***********************]  1 of 1 completed\n",
            "Shape of DataFrame:  (714, 8)\n",
            "Annual return          0.095633\n",
            "Cumulative returns     0.295341\n",
            "Annual volatility      0.172516\n",
            "Sharpe ratio           0.616696\n",
            "Calmar ratio           0.435867\n",
            "Stability              0.316811\n",
            "Max drawdown          -0.219408\n",
            "Omega ratio            1.110738\n",
            "Sortino ratio          0.862038\n",
            "Skew                        NaN\n",
            "Kurtosis                    NaN\n",
            "Tail ratio             1.018332\n",
            "Daily value at risk   -0.021313\n",
            "dtype: float64\n"
          ]
        }
      ],
      "source": [
        "baseline_df = YahooDownloader(\n",
        "        ticker_list =[\"^DJI\"], \n",
        "        start_date = TRADE_START_DATE,\n",
        "        end_date = TRADE_END_DATE).fetch_data()\n",
        "\n",
        "stats = helper.backtest_stats(baseline_df, value_col_name = 'close')"
      ]
    },
    {
      "cell_type": "code",
      "execution_count": null,
      "metadata": {},
      "outputs": [],
      "source": [
        "\n",
        "Annual_return_sac = perf_stats_sac.T['Annual return'][0]\n",
        "Annual_return_ppo = perf_stats_ppo.T['Annual return'][0]\n",
        "Annual_return_td3 = perf_stats_td3.T['Annual return'][0]\n",
        "Annual_return_ddpg = perf_stats_ddpg.T['Annual return'][0]\n",
        "Annual_return_a2c = perf_stats_a2c.T['Annual return'][0]\n",
        "Annual_return = stats[0]"
      ]
    },
    {
      "cell_type": "code",
      "execution_count": null,
      "metadata": {},
      "outputs": [],
      "source": [
        "d = {'sac':Annual_return_sac, 'a2c':Annual_return_a2c, 'td3':Annual_return_td3, 'ddpg': Annual_return_ddpg, 'ppo':Annual_return_ppo}\n",
        "best_model = max(d.items(), key=lambda i: i[1])"
      ]
    },
    {
      "cell_type": "code",
      "execution_count": null,
      "metadata": {},
      "outputs": [
        {
          "ename": "SyntaxError",
          "evalue": "invalid syntax (2385875210.py, line 155)",
          "output_type": "error",
          "traceback": [
            "\u001b[0;36m  Cell \u001b[0;32mIn[46], line 155\u001b[0;36m\u001b[0m\n\u001b[0;31m    alpaca = tradeapi.REST(ALPACA_API_KEY,ALPACA_API_SECRET,ALPACA_API_BASE_URL, 'v2')                                              tech_indicator_list=INDICATORS)\u001b[0m\n\u001b[0m                                                                                                                                    ^\u001b[0m\n\u001b[0;31mSyntaxError\u001b[0m\u001b[0;31m:\u001b[0m invalid syntax\n"
          ]
        }
      ],
      "source": [
        "from module.models import DRLAgent\n",
        "from module.env_stocktrading import StockTradingEnv\n",
        "import time\n",
        "import pandas as pd\n",
        "import numpy as np\n",
        "import alpaca_trade_api as tradeapi\n",
        "import datetime\n",
        "import threading\n",
        "\n",
        "from module.processor_alpaca import AlpacaProcessor\n",
        "from module.config_tickers import DOW_30_TICKER\n",
        "\n",
        "from module.config import (\n",
        "    ALPACA_API_BASE_URL,\n",
        "    ALPACA_API_KEY,\n",
        "    ALPACA_API_SECRET,\n",
        "    INDICATORS\n",
        ")\n",
        "\n",
        "class Alpaca():\n",
        "\n",
        "    def __init__(self, model, turbulence_thresh=70, time_interval=60):\n",
        "        self.model = model\n",
        "        self.turbulence_thresh = turbulence_thresh\n",
        "        self.time_interval = time_interval\n",
        "        try:\n",
        "            self.alpaca = tradeapi.REST(ALPACA_API_KEY,ALPACA_API_SECRET,ALPACA_API_BASE_URL, 'v2')\n",
        "        except:\n",
        "            raise ValueError('Fail to connect Alpaca. Please check account info and internet connection.')\n",
        "        \n",
        "        self.stocks = np.asarray([0] * len(DOW_30_TICKER)) #stocks holding\n",
        "        self.stocks_cd = np.zeros_like(self.stocks) \n",
        "        self.cash = None #cash record \n",
        "        self.stocks_df = pd.DataFrame(self.stocks, columns=['stocks'], index = DOW_30_TICKER)\n",
        "        self.asset_list = []\n",
        "        self.price = np.asarray([0] * len(DOW_30_TICKER))\n",
        "        self.stockUniverse = DOW_30_TICKER\n",
        "        self.turbulence_bool = 0\n",
        "        self.equities = []\n",
        "\n",
        "    def run(self):\n",
        "        orders = self.alpaca.list_orders(status=\"open\")\n",
        "        for order in orders:\n",
        "          self.alpaca.cancel_order(order.id)\n",
        "    \n",
        "        # Wait for market to open.\n",
        "        print(\"Waiting for market to open...\")\n",
        "        tAMO = threading.Thread(target=self.awaitMarketOpen)\n",
        "        tAMO.start()\n",
        "        tAMO.join()\n",
        "        print(\"Market opened.\")\n",
        "    \n",
        "        while True:\n",
        "          \n",
        "          # Figure out when the market will close so we can prepare to sell beforehand.\n",
        "          clock = self.alpaca.get_clock()\n",
        "          closingTime = clock.next_close.replace(tzinfo=datetime.timezone.utc).timestamp()\n",
        "          currTime = clock.timestamp.replace(tzinfo=datetime.timezone.utc).timestamp()\n",
        "          self.timeToClose = closingTime - currTime\n",
        "\n",
        "          if(self.timeToClose < (60)):\n",
        "            # Close all positions when 1 minutes til market close.\n",
        "            print(\"Market closing soon. Stop trading.\")\n",
        "            break\n",
        "\n",
        "          else:\n",
        "            trade = threading.Thread(target=self.trade)\n",
        "            trade.start()\n",
        "            trade.join()\n",
        "            last_equity = float(self.alpaca.get_account().last_equity)\n",
        "            cur_time = time.time()\n",
        "            self.equities.append([cur_time,last_equity])\n",
        "            time.sleep(self.time_interval)\n",
        "    \n",
        "    def awaitMarketOpen(self):\n",
        "        isOpen = self.alpaca.get_clock().is_open\n",
        "\n",
        "        while(not isOpen):\n",
        "            clock = self.alpaca.get_clock()\n",
        "            openingTime = clock.next_open.replace(tzinfo=datetime.timezone.utc).timestamp()\n",
        "            currTime = clock.timestamp.replace(tzinfo=datetime.timezone.utc).timestamp()\n",
        "            timeToOpen = int((openingTime - currTime) / 60)\n",
        "            print(str(timeToOpen) + \" minutes til market open.\")\n",
        "            time.sleep(60)\n",
        "            isOpen = self.alpaca.get_clock().is_open\n",
        "\n",
        "\n",
        "    def submitOrder(self, qty, stock, side, resp):\n",
        "        if(qty > 0):\n",
        "          try:\n",
        "            self.ae_trainlpaca.submit_order(stock, qty, side, \"market\", \"day\")\n",
        "            print(\"Market order of | \" + str(qty) + \" \" + stock + \" \" + side + \" | completed.\")\n",
        "            resp.append(True)\n",
        "          except:\n",
        "            print(\"Order of | \" + str(qty) + \" \" + stock + \" \" + side + \" | did not go through.\")\n",
        "            resp.append(False)\n",
        "        else:\n",
        "          print(\"Quantity is 0, order of | \" + str(qty) + \" \" + stock + \" \" + side + \" | not completed.\")\n",
        "          resp.append(True)\n",
        "    \n",
        "    def trade(self):\n",
        "        state = self.get_state()\n",
        "\n",
        "        action = self.model.predict(state)[0]\n",
        "\n",
        "        if self.turbulence_bool == 0:\n",
        "            min_action = 10  # stock_cd\n",
        "            for index in np.where(action < -min_action)[0]:  # sell_index:\n",
        "                sell_num_shares = min(self.stocks[index], -action[index])\n",
        "                qty =  abs(int(sell_num_shares))\n",
        "                respSO = []\n",
        "                tSubmitOrder = threading.Thread(target=self.submitOrder(qty, self.stockUniverse[index], 'sell', respSO))\n",
        "                tSubmitOrder.start()\n",
        "                tSubmitOrder.join()\n",
        "                self.cash = float(self.alpaca.get_account().cash)\n",
        "                self.stocks_cd[index] = 0\n",
        "\n",
        "            for index in np.where(action > min_action)[0]:  # buy_index:\n",
        "                if self.cash < 0:\n",
        "                    tmp_cash = 0\n",
        "                else:\n",
        "                    tmp_cash = self.cash\n",
        "                buy_num_shares = min(tmp_cash // self.price[index], abs(int(action[index])))\n",
        "                if (buy_num_shares != buy_num_shares): # if buy_num_change = nan\n",
        "                    qty = 0 # set to 0 quantity\n",
        "                else:\n",
        "                    qty = abs(int(buy_num_shares))\n",
        "                qty = abs(int(buy_num_shares))\n",
        "                respSO = []\n",
        "                tSubmitOrder = threading.Thread(target=self.submitOrder(qty, self.stockUniverse[index], 'buy', respSO))\n",
        "                tSubmitOrder.start()\n",
        "                tSubmitOrder.join()\n",
        "                self.cash = float(self.alpaca.get_account().cash)\n",
        "                self.stocks_cd[index] = 0\n",
        "                \n",
        "        else:  # sell all when turbulence\n",
        "            positions = self.alpaca.list_positions()\n",
        "            for position in positions:\n",
        "                if(position.side == 'long'):\n",
        "                    orderSide = 'sell'\n",
        "                else:\n",
        "                    orderSide = 'buy'\n",
        "                qty = abs(int(float(position.qty)))\n",
        "                respSO = []\n",
        "                tSubmitOrder = threading.Thread(target=self.submitOrder(qty, position.symbol, orderSide, respSO))\n",
        "                tSubmitOrder.start()\n",
        "                tSubmitOrder.join()\n",
        "            \n",
        "            self.stocks_cd[:] = 0    \n",
        "\n",
        "           \n",
        "    def get_state(self):\n",
        "       alpaca = AlpacaProcessor(api=self.alpaca)\n",
        "       price, tech, turbulence = alpaca.fetch_latest_data(ticker_list = DOW_30_TICKER, time_interval='1Min',\n",
        "       alpaca = tradeapi.REST(ALPACA_API_KEY,ALPACA_API_SECRET,ALPACA_API_BASE_URL, 'v2')                                              tech_indicator_list=INDICATORS)\n",
        "       \n",
        "\n",
        "\n",
        "       turbulence_bool = 1 if turbulence >= self.turbulence_thresh else 0\n",
        "        \n",
        "       turbulence = (self.sigmoid_sign(turbulence, self.turbulence_thresh) * 2 ** -5).astype(np.float32)\n",
        "        \n",
        "       tech = tech * 2 ** -7\n",
        "       positions = self.alpaca.list_positions()\n",
        "       stocks = [0] * len(DOW_30_TICKER)\n",
        "       for position in positions:\n",
        "          ind = DOW_30_TICKER.index(position.symbol)\n",
        "          stocks[ind] = ( abs(int(float(position.qty))))\n",
        "        \n",
        "       stocks = np.asarray(stocks, dtype = float)\n",
        "       cash = float(self.alpaca.get_account().cash)\n",
        "       self.cash = cash\n",
        "       self.stocks = stocks\n",
        "       self.turbulence_bool = turbulence_bool \n",
        "       self.price = price\n",
        "        \n",
        "        \n",
        "        \n",
        "       amount = np.array(self.cash * (2 ** -12), dtype=np.float32)\n",
        "       scale = np.array(2 ** -6, dtype=np.float32)\n",
        "       state = np.hstack((amount,\n",
        "                    turbulence,\n",
        "                    self.turbulence_bool,\n",
        "                    price * scale,\n",
        "                    self.stocks * scale,\n",
        "                    self.stocks_cd,\n",
        "                    tech,\n",
        "                    )).astype(np.float32)\n",
        "       state[np.isnan(state)] = 0.0\n",
        "       state[np.isinf(state)] = 0.0\n",
        "       return state\n",
        "    \n",
        "    @staticmethod\n",
        "    def sigmoid_sign(ary, thresh):\n",
        "        def sigmoid(x):\n",
        "            return 1 / (1 + np.exp(-x * np.e)) - 0.5\n",
        "\n",
        "        return sigmoid(ary / thresh) * thresh"
      ]
    },
    {
      "cell_type": "code",
      "execution_count": null,
      "metadata": {},
      "outputs": [],
      "source": [
        "test = Alpaca(model=trained_sac)"
      ]
    },
    {
      "cell_type": "code",
      "execution_count": null,
      "metadata": {},
      "outputs": [],
      "source": [
        "test.run()"
      ]
    },
    {
      "cell_type": "code",
      "execution_count": 69,
      "metadata": {},
      "outputs": [],
      "source": [
        "from module.processor_alpaca import AlpacaProcessor\n",
        "import pandas as pd\n",
        "from module.config import (\n",
        "    ALPACA_API_BASE_URL,\n",
        "    ALPACA_API_KEY,\n",
        "    ALPACA_API_SECRET,\n",
        "    INDICATORS\n",
        ")\n",
        "t = AlpacaProcessor(API_SECRET= ALPACA_API_SECRET, API_BASE_URL= ALPACA_API_BASE_URL, API_KEY=ALPACA_API_KEY)"
      ]
    },
    {
      "cell_type": "code",
      "execution_count": 96,
      "metadata": {},
      "outputs": [],
      "source": [
        "import alpaca_trade_api as api\n",
        "\n",
        "alpa = api.REST(key_id= ALPACA_API_KEY, secret_key=ALPACA_API_SECRET, base_url= ALPACA_API_BASE_URL, api_version='v2')\n",
        "d = pd.DataFrame(columns=['date', 'tic', 'open', 'high', 'low', 'close', 'volume', 'day', 'macd',\n",
        "       'boll_ub', 'boll_lb', 'rsi_30', 'cci_30', 'dx_30', 'close_30_sma',\n",
        "       'close_60_sma', 'vix', 'turbulence'])\n",
        "d[\"tic\"] = DOW_30_TICKER"
      ]
    },
    {
      "cell_type": "code",
      "execution_count": 91,
      "metadata": {},
      "outputs": [],
      "source": [
        "\n",
        "data_df = pd.DataFrame()\n",
        "barset = alpa.get_bars('AAPL', '1Min').df.reset_index()\n",
        "data_df = pd.concat([data_df, barset])\n",
        "data_df = data_df.reset_index()"
      ]
    },
    {
      "cell_type": "code",
      "execution_count": 93,
      "metadata": {},
      "outputs": [],
      "source": [
        "barset = alpa.get_bars('AMZ', '1Min').df.reset_index()\n",
        "data_df = pd.concat([data_df, barset])\n",
        "data_df = data_df.reset_index()"
      ]
    },
    {
      "cell_type": "code",
      "execution_count": 102,
      "metadata": {},
      "outputs": [
        {
          "data": {
            "text/plain": [
              "pandas._libs.tslibs.timestamps.Timestamp"
            ]
          },
          "execution_count": 102,
          "metadata": {},
          "output_type": "execute_result"
        }
      ],
      "source": [
        "type(data_df['timestamp'].min())"
      ]
    },
    {
      "cell_type": "code",
      "execution_count": 70,
      "metadata": {},
      "outputs": [
        {
          "ename": "AttributeError",
          "evalue": "'DataFrame' object has no attribute 'timestamp'",
          "output_type": "error",
          "traceback": [
            "\u001b[0;31m---------------------------------------------------------------------------\u001b[0m",
            "\u001b[0;31mAttributeError\u001b[0m                            Traceback (most recent call last)",
            "Cell \u001b[0;32mIn[70], line 10\u001b[0m\n\u001b[1;32m      7\u001b[0m d[\u001b[39m\"\u001b[39m\u001b[39mtic\u001b[39m\u001b[39m\"\u001b[39m] \u001b[39m=\u001b[39m DOW_30_TICKER\n\u001b[1;32m      9\u001b[0m \u001b[39mfor\u001b[39;00m tic \u001b[39min\u001b[39;00m \u001b[39mrange\u001b[39m(\u001b[39mlen\u001b[39m(DOW_30_TICKER)):\n\u001b[0;32m---> 10\u001b[0m     tech, turb \u001b[39m=\u001b[39m t\u001b[39m.\u001b[39;49mfetch_latest_data([DOW_30_TICKER[tic]], \u001b[39m'\u001b[39;49m\u001b[39m1Min\u001b[39;49m\u001b[39m'\u001b[39;49m, INDICATORS)\n\u001b[1;32m     11\u001b[0m     dic \u001b[39m=\u001b[39m alpa\u001b[39m.\u001b[39mget_latest_bar(DOW_30_TICKER[tic])\n\u001b[1;32m     12\u001b[0m     dic \u001b[39m=\u001b[39m \u001b[39meval\u001b[39m(\u001b[39m'\u001b[39m\u001b[39m{\u001b[39m\u001b[39m'\u001b[39m \u001b[39m+\u001b[39m \u001b[39mstr\u001b[39m(dic)[\u001b[39m10\u001b[39m:\u001b[39m-\u001b[39m\u001b[39m2\u001b[39m]\u001b[39m.\u001b[39mreplace(\u001b[39m'\u001b[39m\u001b[39m\\n\u001b[39;00m\u001b[39m   \u001b[39m\u001b[39m'\u001b[39m, \u001b[39m'\u001b[39m\u001b[39m'\u001b[39m) \u001b[39m+\u001b[39m \u001b[39m'\u001b[39m\u001b[39m}\u001b[39m\u001b[39m'\u001b[39m)\n",
            "File \u001b[0;32m~/Bureau/VSCode/Stock_drl/Stock_drl/module/processor_alpaca.py:338\u001b[0m, in \u001b[0;36mAlpacaProcessor.fetch_latest_data\u001b[0;34m(self, ticker_list, time_interval, tech_indicator_list, limit)\u001b[0m\n\u001b[1;32m    335\u001b[0m     data_df \u001b[39m=\u001b[39m pd\u001b[39m.\u001b[39mconcat([data_df, barset])\n\u001b[1;32m    337\u001b[0m data_df \u001b[39m=\u001b[39m data_df\u001b[39m.\u001b[39mreset_index()\n\u001b[0;32m--> 338\u001b[0m start_time \u001b[39m=\u001b[39m data_df\u001b[39m.\u001b[39;49mtimestamp\u001b[39m.\u001b[39mmin()\n\u001b[1;32m    339\u001b[0m end_time \u001b[39m=\u001b[39m data_df\u001b[39m.\u001b[39mtimestamp\u001b[39m.\u001b[39mmax()\n\u001b[1;32m    340\u001b[0m times \u001b[39m=\u001b[39m []\n",
            "File \u001b[0;32m~/.local/lib/python3.8/site-packages/pandas/core/generic.py:5902\u001b[0m, in \u001b[0;36mNDFrame.__getattr__\u001b[0;34m(self, name)\u001b[0m\n\u001b[1;32m   5895\u001b[0m \u001b[39mif\u001b[39;00m (\n\u001b[1;32m   5896\u001b[0m     name \u001b[39mnot\u001b[39;00m \u001b[39min\u001b[39;00m \u001b[39mself\u001b[39m\u001b[39m.\u001b[39m_internal_names_set\n\u001b[1;32m   5897\u001b[0m     \u001b[39mand\u001b[39;00m name \u001b[39mnot\u001b[39;00m \u001b[39min\u001b[39;00m \u001b[39mself\u001b[39m\u001b[39m.\u001b[39m_metadata\n\u001b[1;32m   5898\u001b[0m     \u001b[39mand\u001b[39;00m name \u001b[39mnot\u001b[39;00m \u001b[39min\u001b[39;00m \u001b[39mself\u001b[39m\u001b[39m.\u001b[39m_accessors\n\u001b[1;32m   5899\u001b[0m     \u001b[39mand\u001b[39;00m \u001b[39mself\u001b[39m\u001b[39m.\u001b[39m_info_axis\u001b[39m.\u001b[39m_can_hold_identifiers_and_holds_name(name)\n\u001b[1;32m   5900\u001b[0m ):\n\u001b[1;32m   5901\u001b[0m     \u001b[39mreturn\u001b[39;00m \u001b[39mself\u001b[39m[name]\n\u001b[0;32m-> 5902\u001b[0m \u001b[39mreturn\u001b[39;00m \u001b[39mobject\u001b[39;49m\u001b[39m.\u001b[39;49m\u001b[39m__getattribute__\u001b[39;49m(\u001b[39mself\u001b[39;49m, name)\n",
            "\u001b[0;31mAttributeError\u001b[0m: 'DataFrame' object has no attribute 'timestamp'"
          ]
        }
      ],
      "source": [
        "\n",
        "\n",
        "for tic in range(len(DOW_30_TICKER)):\n",
        "    tech, turb = t.fetch_latest_data([DOW_30_TICKER[tic]], '1Min', INDICATORS)\n",
        "    dic = alpa.get_latest_bar(DOW_30_TICKER[tic])\n",
        "    dic = eval('{' + str(dic)[10:-2].replace('\\n   ', '') + '}')\n",
        "    d.iloc[tic,2] =np.float64(dic['o'])\n",
        "    d.iloc[tic,3] = np.float64(dic['h'])\n",
        "    d.iloc[tic,4] = np.float64(dic['l'])\n",
        "    d.iloc[tic,5] = np.float64(dic['c'])\n",
        "    d.iloc[tic,6] = np.float64(dic['v'])\n",
        "    d.iloc[tic,-2] = np.float64(turb[0])\n",
        "    d.iloc[tic,-1] = np.float64(0)\n",
        "    d.iloc[tic, 0] = TODAY.strftime('%Y-%m-%d')\n",
        "    d.iloc[tic, 7] = np.float64(datetime.datetime.weekday(TODAY))\n",
        "    c = 0\n",
        "    for i in range(len(INDICATORS)):\n",
        "        d.iloc[tic,i+8] = np.float64(tech[c])\n",
        "        c+=1\n",
        "d.index = d.date.factorize()[0]"
      ]
    },
    {
      "cell_type": "code",
      "execution_count": null,
      "metadata": {},
      "outputs": [],
      "source": [
        "for c in ['date', 'tic', 'open', 'high', 'low', 'close', 'volume', 'day', 'macd',\n",
        "       'boll_ub', 'boll_lb', 'rsi_30', 'cci_30', 'dx_30', 'close_30_sma',\n",
        "       'close_60_sma', 'vix', 'turbulence']:\n",
        "    d[c] = pd.Series(d[c])\n",
        "    print(type(d[c]),'-------', type(d[c][0]))"
      ]
    },
    {
      "cell_type": "code",
      "execution_count": null,
      "metadata": {},
      "outputs": [
        {
          "name": "stdout",
          "output_type": "stream",
          "text": [
            "<class 'pandas.core.series.Series'>\n",
            "<class 'pandas.core.series.Series'>\n",
            "<class 'pandas.core.series.Series'>\n",
            "<class 'pandas.core.series.Series'>\n",
            "<class 'pandas.core.series.Series'>\n",
            "<class 'pandas.core.series.Series'>\n",
            "<class 'pandas.core.series.Series'>\n",
            "<class 'pandas.core.series.Series'>\n",
            "<class 'pandas.core.series.Series'>\n",
            "<class 'pandas.core.series.Series'>\n",
            "<class 'pandas.core.series.Series'>\n",
            "<class 'pandas.core.series.Series'>\n",
            "<class 'pandas.core.series.Series'>\n",
            "<class 'pandas.core.series.Series'>\n",
            "<class 'pandas.core.series.Series'>\n",
            "<class 'pandas.core.series.Series'>\n",
            "<class 'pandas.core.series.Series'>\n",
            "<class 'pandas.core.series.Series'>\n"
          ]
        }
      ],
      "source": [
        "for i in ['date', 'tic', 'open', 'high', 'low', 'close', 'volume', 'day', 'macd',\n",
        "       'boll_ub', 'boll_lb', 'rsi_30', 'cci_30', 'dx_30', 'close_30_sma',\n",
        "       'close_60_sma', 'vix', 'turbulence']:\n",
        "    print(type(d[i][0]))"
      ]
    },
    {
      "cell_type": "code",
      "execution_count": null,
      "metadata": {},
      "outputs": [],
      "source": [
        "stock_dimension = len(DOW_30_TICKER)\n",
        "state_space = 1 + 2*stock_dimension + len(INDICATORS)*stock_dimension\n",
        "\n",
        "buy_cost_list = sell_cost_list = [0.001] * stock_dimension\n",
        "num_stock_shares = [0] * stock_dimension\n",
        "\n",
        "env_kwargs = {\n",
        "        \"hmax\": 100,\n",
        "        \"initial_amount\": 1000000,\n",
        "        \"num_stock_shares\": num_stock_shares,\n",
        "        \"buy_cost_pct\": buy_cost_list,\n",
        "        \"sell_cost_pct\": sell_cost_list,\n",
        "        \"state_space\": state_space,\n",
        "        \"stock_dim\": stock_dimension,\n",
        "        \"tech_indicator_list\": INDICATORS,\n",
        "        \"action_space\": stock_dimension,\n",
        "        \"reward_scaling\": 1e-4\n",
        "          }\n",
        "\n"
      ]
    },
    {
      "cell_type": "code",
      "execution_count": null,
      "metadata": {},
      "outputs": [],
      "source": [
        "gym = StockTradingEnv(d, turbulence_threshold=70, risk_indicator_col='vix', **env_kwargs)"
      ]
    },
    {
      "cell_type": "code",
      "execution_count": null,
      "metadata": {},
      "outputs": [],
      "source": [
        "env, _ = gym.get_sb_env()"
      ]
    },
    {
      "cell_type": "code",
      "execution_count": null,
      "metadata": {},
      "outputs": [
        {
          "ename": "NameError",
          "evalue": "name 'trained_sac' is not defined",
          "output_type": "error",
          "traceback": [
            "\u001b[0;31m---------------------------------------------------------------------------\u001b[0m",
            "\u001b[0;31mNameError\u001b[0m                                 Traceback (most recent call last)",
            "Cell \u001b[0;32mIn[159], line 1\u001b[0m\n\u001b[0;32m----> 1\u001b[0m trained_moedl \u001b[39m=\u001b[39m trained_sac\n\u001b[1;32m      2\u001b[0m df_account_value_sac, df_actions_sac \u001b[39m=\u001b[39m DRLAgent\u001b[39m.\u001b[39mDRL_prediction(\n\u001b[1;32m      3\u001b[0m     model\u001b[39m=\u001b[39mtrained_moedl, \n\u001b[1;32m      4\u001b[0m     environment \u001b[39m=\u001b[39m env)\n",
            "\u001b[0;31mNameError\u001b[0m: name 'trained_sac' is not defined"
          ]
        }
      ],
      "source": [
        "trained_moedl = trained_ppo\n",
        "df_account_value_sac, df_actions_sac = DRLAgent.DRL_prediction(\n",
        "    model=trained_moedl, \n",
        "    environment = env)"
      ]
    },
    {
      "cell_type": "code",
      "execution_count": null,
      "metadata": {},
      "outputs": [],
      "source": []
    },
    {
      "cell_type": "code",
      "execution_count": null,
      "metadata": {},
      "outputs": [],
      "source": []
    }
  ],
  "metadata": {
    "colab": {
      "collapsed_sections": [
        "HMNR5nHjh1iz",
        "uijiWgkuh1jB",
        "MRiOtrywfAo1",
        "_gDkU-j-fCmZ",
        "3Zpv4S0-fDBv"
      ],
      "provenance": []
    },
    "kernelspec": {
      "display_name": "Python 3",
      "language": "python",
      "name": "python3"
    },
    "language_info": {
      "codemirror_mode": {
        "name": "ipython",
        "version": 3
      },
      "file_extension": ".py",
      "mimetype": "text/x-python",
      "name": "python",
      "nbconvert_exporter": "python",
      "pygments_lexer": "ipython3",
      "version": "3.8.10"
    },
    "vscode": {
      "interpreter": {
        "hash": "916dbcbb3f70747c44a77c7bcd40155683ae19c65e1c03b4aa3499c5328201f1"
      }
    }
  },
  "nbformat": 4,
  "nbformat_minor": 0
}
